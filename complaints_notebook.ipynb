{
 "cells": [
  {
   "cell_type": "code",
   "execution_count": 3,
   "metadata": {},
   "outputs": [
    {
     "data": {
      "text/html": [
       "<div>\n",
       "<style scoped>\n",
       "    .dataframe tbody tr th:only-of-type {\n",
       "        vertical-align: middle;\n",
       "    }\n",
       "\n",
       "    .dataframe tbody tr th {\n",
       "        vertical-align: top;\n",
       "    }\n",
       "\n",
       "    .dataframe thead th {\n",
       "        text-align: right;\n",
       "    }\n",
       "</style>\n",
       "<table border=\"1\" class=\"dataframe\">\n",
       "  <thead>\n",
       "    <tr style=\"text-align: right;\">\n",
       "      <th></th>\n",
       "      <th>Date received</th>\n",
       "      <th>Product</th>\n",
       "      <th>Sub-product</th>\n",
       "      <th>Issue</th>\n",
       "      <th>Sub-issue</th>\n",
       "      <th>Consumer complaint narrative</th>\n",
       "      <th>Company public response</th>\n",
       "      <th>Company</th>\n",
       "      <th>State</th>\n",
       "      <th>ZIP code</th>\n",
       "      <th>Tags</th>\n",
       "      <th>Consumer consent provided?</th>\n",
       "      <th>Submitted via</th>\n",
       "      <th>Date sent to company</th>\n",
       "      <th>Company response to consumer</th>\n",
       "      <th>Timely response?</th>\n",
       "      <th>Consumer disputed?</th>\n",
       "      <th>Complaint ID</th>\n",
       "    </tr>\n",
       "  </thead>\n",
       "  <tbody>\n",
       "    <tr>\n",
       "      <th>0</th>\n",
       "      <td>2021-08-02</td>\n",
       "      <td>Credit reporting, credit repair services, or o...</td>\n",
       "      <td>Credit reporting</td>\n",
       "      <td>Incorrect information on your report</td>\n",
       "      <td>Information belongs to someone else</td>\n",
       "      <td>NaN</td>\n",
       "      <td>NaN</td>\n",
       "      <td>EQUIFAX, INC.</td>\n",
       "      <td>TN</td>\n",
       "      <td>37221</td>\n",
       "      <td>NaN</td>\n",
       "      <td>Consent not provided</td>\n",
       "      <td>Web</td>\n",
       "      <td>2021-08-02</td>\n",
       "      <td>Closed with explanation</td>\n",
       "      <td>Yes</td>\n",
       "      <td>NaN</td>\n",
       "      <td>4595998</td>\n",
       "    </tr>\n",
       "    <tr>\n",
       "      <th>1</th>\n",
       "      <td>2022-01-12</td>\n",
       "      <td>Credit card or prepaid card</td>\n",
       "      <td>General-purpose credit card or charge card</td>\n",
       "      <td>Problem when making payments</td>\n",
       "      <td>Problem during payment process</td>\n",
       "      <td>Twice now, the checking account linked to my P...</td>\n",
       "      <td>Company has responded to the consumer and the ...</td>\n",
       "      <td>SYNCHRONY FINANCIAL</td>\n",
       "      <td>RI</td>\n",
       "      <td>028XX</td>\n",
       "      <td>NaN</td>\n",
       "      <td>Consent provided</td>\n",
       "      <td>Web</td>\n",
       "      <td>2022-01-12</td>\n",
       "      <td>Closed with monetary relief</td>\n",
       "      <td>Yes</td>\n",
       "      <td>NaN</td>\n",
       "      <td>5105568</td>\n",
       "    </tr>\n",
       "  </tbody>\n",
       "</table>\n",
       "</div>"
      ],
      "text/plain": [
       "  Date received                                            Product  \\\n",
       "0    2021-08-02  Credit reporting, credit repair services, or o...   \n",
       "1    2022-01-12                        Credit card or prepaid card   \n",
       "\n",
       "                                  Sub-product  \\\n",
       "0                            Credit reporting   \n",
       "1  General-purpose credit card or charge card   \n",
       "\n",
       "                                  Issue                            Sub-issue  \\\n",
       "0  Incorrect information on your report  Information belongs to someone else   \n",
       "1          Problem when making payments       Problem during payment process   \n",
       "\n",
       "                        Consumer complaint narrative  \\\n",
       "0                                                NaN   \n",
       "1  Twice now, the checking account linked to my P...   \n",
       "\n",
       "                             Company public response              Company  \\\n",
       "0                                                NaN        EQUIFAX, INC.   \n",
       "1  Company has responded to the consumer and the ...  SYNCHRONY FINANCIAL   \n",
       "\n",
       "  State ZIP code Tags Consumer consent provided? Submitted via  \\\n",
       "0    TN    37221  NaN       Consent not provided           Web   \n",
       "1    RI    028XX  NaN           Consent provided           Web   \n",
       "\n",
       "  Date sent to company Company response to consumer Timely response?  \\\n",
       "0           2021-08-02      Closed with explanation              Yes   \n",
       "1           2022-01-12  Closed with monetary relief              Yes   \n",
       "\n",
       "  Consumer disputed?  Complaint ID  \n",
       "0                NaN       4595998  \n",
       "1                NaN       5105568  "
      ]
     },
     "execution_count": 3,
     "metadata": {},
     "output_type": "execute_result"
    }
   ],
   "source": [
    "# Dependencies and Setup\n",
    "import matplotlib.pyplot as plt\n",
    "import pandas as pd\n",
    "import scipy.stats as st\n",
    "import numpy as np\n",
    "\n",
    "# Study data files\n",
    "complaints_metadata_path = \"data/complaints.csv\"\n",
    "\n",
    "# Read data to study results\n",
    "complaints_metadata = pd.read_csv(complaints_metadata_path)\n",
    "\n",
    "# Display table\n",
    "complaints_metadata.head(2)"
   ]
  },
  {
   "cell_type": "code",
   "execution_count": 38,
   "metadata": {},
   "outputs": [
    {
     "data": {
      "text/plain": [
       "7027068"
      ]
     },
     "execution_count": 38,
     "metadata": {},
     "output_type": "execute_result"
    }
   ],
   "source": [
    "len(complaints_metadata)"
   ]
  },
  {
   "cell_type": "code",
   "execution_count": 39,
   "metadata": {},
   "outputs": [
    {
     "name": "stdout",
     "output_type": "stream",
     "text": [
      "<class 'pandas.core.frame.DataFrame'>\n",
      "RangeIndex: 7027068 entries, 0 to 7027067\n",
      "Data columns (total 18 columns):\n",
      " #   Column                        Dtype \n",
      "---  ------                        ----- \n",
      " 0   Date received                 object\n",
      " 1   Product                       object\n",
      " 2   Sub-product                   object\n",
      " 3   Issue                         object\n",
      " 4   Sub-issue                     object\n",
      " 5   Consumer complaint narrative  object\n",
      " 6   Company public response       object\n",
      " 7   Company                       object\n",
      " 8   State                         object\n",
      " 9   ZIP code                      object\n",
      " 10  Tags                          object\n",
      " 11  Consumer consent provided?    object\n",
      " 12  Submitted via                 object\n",
      " 13  Date sent to company          object\n",
      " 14  Company response to consumer  object\n",
      " 15  Timely response?              object\n",
      " 16  Consumer disputed?            object\n",
      " 17  Complaint ID                  int64 \n",
      "dtypes: int64(1), object(17)\n",
      "memory usage: 965.0+ MB\n"
     ]
    }
   ],
   "source": [
    "# Data types of columns\n",
    "complaints_metadata.info()"
   ]
  },
  {
   "cell_type": "code",
   "execution_count": 5,
   "metadata": {},
   "outputs": [],
   "source": [
    "# Drop Consumer Disputed, Tags, Consumer Complaint Narrative column\n",
    "complaints_database = complaints_metadata.drop(['Consumer disputed?','Tags','Consumer complaint narrative'], axis=1)"
   ]
  },
  {
   "cell_type": "code",
   "execution_count": 6,
   "metadata": {},
   "outputs": [
    {
     "data": {
      "text/html": [
       "<div>\n",
       "<style scoped>\n",
       "    .dataframe tbody tr th:only-of-type {\n",
       "        vertical-align: middle;\n",
       "    }\n",
       "\n",
       "    .dataframe tbody tr th {\n",
       "        vertical-align: top;\n",
       "    }\n",
       "\n",
       "    .dataframe thead th {\n",
       "        text-align: right;\n",
       "    }\n",
       "</style>\n",
       "<table border=\"1\" class=\"dataframe\">\n",
       "  <thead>\n",
       "    <tr style=\"text-align: right;\">\n",
       "      <th></th>\n",
       "      <th>date received</th>\n",
       "      <th>product</th>\n",
       "      <th>sub-product</th>\n",
       "      <th>issue</th>\n",
       "      <th>sub-issue</th>\n",
       "      <th>company public response</th>\n",
       "      <th>company</th>\n",
       "      <th>state</th>\n",
       "      <th>zip code</th>\n",
       "      <th>consumer consent provided?</th>\n",
       "      <th>submitted via</th>\n",
       "      <th>date sent to company</th>\n",
       "      <th>company response to consumer</th>\n",
       "      <th>timely response?</th>\n",
       "      <th>complaint id</th>\n",
       "    </tr>\n",
       "  </thead>\n",
       "  <tbody>\n",
       "    <tr>\n",
       "      <th>0</th>\n",
       "      <td>2021-08-02</td>\n",
       "      <td>Credit reporting, credit repair services, or o...</td>\n",
       "      <td>Credit reporting</td>\n",
       "      <td>Incorrect information on your report</td>\n",
       "      <td>Information belongs to someone else</td>\n",
       "      <td>NaN</td>\n",
       "      <td>EQUIFAX, INC.</td>\n",
       "      <td>TN</td>\n",
       "      <td>37221</td>\n",
       "      <td>Consent not provided</td>\n",
       "      <td>Web</td>\n",
       "      <td>2021-08-02</td>\n",
       "      <td>Closed with explanation</td>\n",
       "      <td>Yes</td>\n",
       "      <td>4595998</td>\n",
       "    </tr>\n",
       "    <tr>\n",
       "      <th>1</th>\n",
       "      <td>2022-01-12</td>\n",
       "      <td>Credit card or prepaid card</td>\n",
       "      <td>General-purpose credit card or charge card</td>\n",
       "      <td>Problem when making payments</td>\n",
       "      <td>Problem during payment process</td>\n",
       "      <td>Company has responded to the consumer and the ...</td>\n",
       "      <td>SYNCHRONY FINANCIAL</td>\n",
       "      <td>RI</td>\n",
       "      <td>028XX</td>\n",
       "      <td>Consent provided</td>\n",
       "      <td>Web</td>\n",
       "      <td>2022-01-12</td>\n",
       "      <td>Closed with monetary relief</td>\n",
       "      <td>Yes</td>\n",
       "      <td>5105568</td>\n",
       "    </tr>\n",
       "    <tr>\n",
       "      <th>2</th>\n",
       "      <td>2022-01-06</td>\n",
       "      <td>Credit card or prepaid card</td>\n",
       "      <td>General-purpose credit card or charge card</td>\n",
       "      <td>Other features, terms, or problems</td>\n",
       "      <td>Other problem</td>\n",
       "      <td>NaN</td>\n",
       "      <td>CAPITAL ONE FINANCIAL CORPORATION</td>\n",
       "      <td>CA</td>\n",
       "      <td>92103</td>\n",
       "      <td>Consent provided</td>\n",
       "      <td>Web</td>\n",
       "      <td>2022-01-06</td>\n",
       "      <td>Closed with explanation</td>\n",
       "      <td>Yes</td>\n",
       "      <td>5080127</td>\n",
       "    </tr>\n",
       "    <tr>\n",
       "      <th>3</th>\n",
       "      <td>2022-01-06</td>\n",
       "      <td>Credit reporting, credit repair services, or o...</td>\n",
       "      <td>Credit reporting</td>\n",
       "      <td>Incorrect information on your report</td>\n",
       "      <td>Account status incorrect</td>\n",
       "      <td>Company has responded to the consumer and the ...</td>\n",
       "      <td>Experian Information Solutions Inc.</td>\n",
       "      <td>PA</td>\n",
       "      <td>191XX</td>\n",
       "      <td>Consent provided</td>\n",
       "      <td>Web</td>\n",
       "      <td>2022-01-06</td>\n",
       "      <td>Closed with explanation</td>\n",
       "      <td>Yes</td>\n",
       "      <td>5081028</td>\n",
       "    </tr>\n",
       "    <tr>\n",
       "      <th>4</th>\n",
       "      <td>2022-01-06</td>\n",
       "      <td>Credit reporting, credit repair services, or o...</td>\n",
       "      <td>Credit reporting</td>\n",
       "      <td>Incorrect information on your report</td>\n",
       "      <td>Information belongs to someone else</td>\n",
       "      <td>Company has responded to the consumer and the ...</td>\n",
       "      <td>TRANSUNION INTERMEDIATE HOLDINGS, INC.</td>\n",
       "      <td>VA</td>\n",
       "      <td>23234</td>\n",
       "      <td>Consent provided</td>\n",
       "      <td>Web</td>\n",
       "      <td>2022-01-06</td>\n",
       "      <td>Closed with non-monetary relief</td>\n",
       "      <td>Yes</td>\n",
       "      <td>5079989</td>\n",
       "    </tr>\n",
       "    <tr>\n",
       "      <th>...</th>\n",
       "      <td>...</td>\n",
       "      <td>...</td>\n",
       "      <td>...</td>\n",
       "      <td>...</td>\n",
       "      <td>...</td>\n",
       "      <td>...</td>\n",
       "      <td>...</td>\n",
       "      <td>...</td>\n",
       "      <td>...</td>\n",
       "      <td>...</td>\n",
       "      <td>...</td>\n",
       "      <td>...</td>\n",
       "      <td>...</td>\n",
       "      <td>...</td>\n",
       "      <td>...</td>\n",
       "    </tr>\n",
       "    <tr>\n",
       "      <th>7027063</th>\n",
       "      <td>2017-02-02</td>\n",
       "      <td>Credit reporting</td>\n",
       "      <td>NaN</td>\n",
       "      <td>Unable to get credit report/credit score</td>\n",
       "      <td>Problem getting report or credit score</td>\n",
       "      <td>NaN</td>\n",
       "      <td>EQUIFAX, INC.</td>\n",
       "      <td>CA</td>\n",
       "      <td>90059</td>\n",
       "      <td>NaN</td>\n",
       "      <td>Postal mail</td>\n",
       "      <td>2017-02-07</td>\n",
       "      <td>Closed with explanation</td>\n",
       "      <td>Yes</td>\n",
       "      <td>2321396</td>\n",
       "    </tr>\n",
       "    <tr>\n",
       "      <th>7027064</th>\n",
       "      <td>2022-07-27</td>\n",
       "      <td>Credit reporting, credit repair services, or o...</td>\n",
       "      <td>Credit reporting</td>\n",
       "      <td>Incorrect information on your report</td>\n",
       "      <td>Personal information incorrect</td>\n",
       "      <td>NaN</td>\n",
       "      <td>EQUIFAX, INC.</td>\n",
       "      <td>GA</td>\n",
       "      <td>30135</td>\n",
       "      <td>Consent not provided</td>\n",
       "      <td>Web</td>\n",
       "      <td>2022-07-27</td>\n",
       "      <td>Closed with explanation</td>\n",
       "      <td>Yes</td>\n",
       "      <td>5817386</td>\n",
       "    </tr>\n",
       "    <tr>\n",
       "      <th>7027065</th>\n",
       "      <td>2015-10-27</td>\n",
       "      <td>Credit reporting</td>\n",
       "      <td>NaN</td>\n",
       "      <td>Credit reporting company's investigation</td>\n",
       "      <td>No notice of investigation status/result</td>\n",
       "      <td>NaN</td>\n",
       "      <td>EQUIFAX, INC.</td>\n",
       "      <td>CA</td>\n",
       "      <td>92082</td>\n",
       "      <td>Consent not provided</td>\n",
       "      <td>Web</td>\n",
       "      <td>2015-10-27</td>\n",
       "      <td>Closed with explanation</td>\n",
       "      <td>Yes</td>\n",
       "      <td>1626081</td>\n",
       "    </tr>\n",
       "    <tr>\n",
       "      <th>7027066</th>\n",
       "      <td>2022-10-21</td>\n",
       "      <td>Debt collection</td>\n",
       "      <td>Credit card debt</td>\n",
       "      <td>Attempts to collect debt not owed</td>\n",
       "      <td>Debt is not yours</td>\n",
       "      <td>NaN</td>\n",
       "      <td>ENCORE CAPITAL GROUP INC.</td>\n",
       "      <td>AR</td>\n",
       "      <td>72086</td>\n",
       "      <td>Consent not provided</td>\n",
       "      <td>Web</td>\n",
       "      <td>2022-10-21</td>\n",
       "      <td>Closed with non-monetary relief</td>\n",
       "      <td>Yes</td>\n",
       "      <td>6113755</td>\n",
       "    </tr>\n",
       "    <tr>\n",
       "      <th>7027067</th>\n",
       "      <td>2015-12-16</td>\n",
       "      <td>Credit reporting</td>\n",
       "      <td>NaN</td>\n",
       "      <td>Incorrect information on credit report</td>\n",
       "      <td>Information is not mine</td>\n",
       "      <td>NaN</td>\n",
       "      <td>EQUIFAX, INC.</td>\n",
       "      <td>TX</td>\n",
       "      <td>76009</td>\n",
       "      <td>Consent not provided</td>\n",
       "      <td>Web</td>\n",
       "      <td>2015-12-16</td>\n",
       "      <td>Closed with explanation</td>\n",
       "      <td>Yes</td>\n",
       "      <td>1706667</td>\n",
       "    </tr>\n",
       "  </tbody>\n",
       "</table>\n",
       "<p>7027068 rows × 15 columns</p>\n",
       "</div>"
      ],
      "text/plain": [
       "        date received                                            product  \\\n",
       "0          2021-08-02  Credit reporting, credit repair services, or o...   \n",
       "1          2022-01-12                        Credit card or prepaid card   \n",
       "2          2022-01-06                        Credit card or prepaid card   \n",
       "3          2022-01-06  Credit reporting, credit repair services, or o...   \n",
       "4          2022-01-06  Credit reporting, credit repair services, or o...   \n",
       "...               ...                                                ...   \n",
       "7027063    2017-02-02                                   Credit reporting   \n",
       "7027064    2022-07-27  Credit reporting, credit repair services, or o...   \n",
       "7027065    2015-10-27                                   Credit reporting   \n",
       "7027066    2022-10-21                                    Debt collection   \n",
       "7027067    2015-12-16                                   Credit reporting   \n",
       "\n",
       "                                        sub-product  \\\n",
       "0                                  Credit reporting   \n",
       "1        General-purpose credit card or charge card   \n",
       "2        General-purpose credit card or charge card   \n",
       "3                                  Credit reporting   \n",
       "4                                  Credit reporting   \n",
       "...                                             ...   \n",
       "7027063                                         NaN   \n",
       "7027064                            Credit reporting   \n",
       "7027065                                         NaN   \n",
       "7027066                            Credit card debt   \n",
       "7027067                                         NaN   \n",
       "\n",
       "                                            issue  \\\n",
       "0            Incorrect information on your report   \n",
       "1                    Problem when making payments   \n",
       "2              Other features, terms, or problems   \n",
       "3            Incorrect information on your report   \n",
       "4            Incorrect information on your report   \n",
       "...                                           ...   \n",
       "7027063  Unable to get credit report/credit score   \n",
       "7027064      Incorrect information on your report   \n",
       "7027065  Credit reporting company's investigation   \n",
       "7027066         Attempts to collect debt not owed   \n",
       "7027067    Incorrect information on credit report   \n",
       "\n",
       "                                        sub-issue  \\\n",
       "0             Information belongs to someone else   \n",
       "1                  Problem during payment process   \n",
       "2                                   Other problem   \n",
       "3                        Account status incorrect   \n",
       "4             Information belongs to someone else   \n",
       "...                                           ...   \n",
       "7027063    Problem getting report or credit score   \n",
       "7027064            Personal information incorrect   \n",
       "7027065  No notice of investigation status/result   \n",
       "7027066                         Debt is not yours   \n",
       "7027067                   Information is not mine   \n",
       "\n",
       "                                   company public response  \\\n",
       "0                                                      NaN   \n",
       "1        Company has responded to the consumer and the ...   \n",
       "2                                                      NaN   \n",
       "3        Company has responded to the consumer and the ...   \n",
       "4        Company has responded to the consumer and the ...   \n",
       "...                                                    ...   \n",
       "7027063                                                NaN   \n",
       "7027064                                                NaN   \n",
       "7027065                                                NaN   \n",
       "7027066                                                NaN   \n",
       "7027067                                                NaN   \n",
       "\n",
       "                                        company state zip code  \\\n",
       "0                                 EQUIFAX, INC.    TN    37221   \n",
       "1                           SYNCHRONY FINANCIAL    RI    028XX   \n",
       "2             CAPITAL ONE FINANCIAL CORPORATION    CA    92103   \n",
       "3           Experian Information Solutions Inc.    PA    191XX   \n",
       "4        TRANSUNION INTERMEDIATE HOLDINGS, INC.    VA    23234   \n",
       "...                                         ...   ...      ...   \n",
       "7027063                           EQUIFAX, INC.    CA    90059   \n",
       "7027064                           EQUIFAX, INC.    GA    30135   \n",
       "7027065                           EQUIFAX, INC.    CA    92082   \n",
       "7027066               ENCORE CAPITAL GROUP INC.    AR    72086   \n",
       "7027067                           EQUIFAX, INC.    TX    76009   \n",
       "\n",
       "        consumer consent provided? submitted via date sent to company  \\\n",
       "0             Consent not provided           Web           2021-08-02   \n",
       "1                 Consent provided           Web           2022-01-12   \n",
       "2                 Consent provided           Web           2022-01-06   \n",
       "3                 Consent provided           Web           2022-01-06   \n",
       "4                 Consent provided           Web           2022-01-06   \n",
       "...                            ...           ...                  ...   \n",
       "7027063                        NaN   Postal mail           2017-02-07   \n",
       "7027064       Consent not provided           Web           2022-07-27   \n",
       "7027065       Consent not provided           Web           2015-10-27   \n",
       "7027066       Consent not provided           Web           2022-10-21   \n",
       "7027067       Consent not provided           Web           2015-12-16   \n",
       "\n",
       "            company response to consumer timely response?  complaint id  \n",
       "0                Closed with explanation              Yes       4595998  \n",
       "1            Closed with monetary relief              Yes       5105568  \n",
       "2                Closed with explanation              Yes       5080127  \n",
       "3                Closed with explanation              Yes       5081028  \n",
       "4        Closed with non-monetary relief              Yes       5079989  \n",
       "...                                  ...              ...           ...  \n",
       "7027063          Closed with explanation              Yes       2321396  \n",
       "7027064          Closed with explanation              Yes       5817386  \n",
       "7027065          Closed with explanation              Yes       1626081  \n",
       "7027066  Closed with non-monetary relief              Yes       6113755  \n",
       "7027067          Closed with explanation              Yes       1706667  \n",
       "\n",
       "[7027068 rows x 15 columns]"
      ]
     },
     "execution_count": 6,
     "metadata": {},
     "output_type": "execute_result"
    }
   ],
   "source": [
    "# Clean header row to lower case\n",
    "complaints_db = complaints_database.rename(columns=str.lower)\n",
    "complaints_db"
   ]
  },
  {
   "cell_type": "code",
   "execution_count": 7,
   "metadata": {},
   "outputs": [
    {
     "data": {
      "text/plain": [
       "date received                   7027068\n",
       "product                         7027068\n",
       "sub-product                     6791773\n",
       "issue                           7027062\n",
       "sub-issue                       6269273\n",
       "company public response         3470905\n",
       "company                         7027068\n",
       "state                           6977595\n",
       "zip code                        6996840\n",
       "consumer consent provided?      5759827\n",
       "submitted via                   7027068\n",
       "date sent to company            7027068\n",
       "company response to consumer    7027048\n",
       "timely response?                7027068\n",
       "complaint id                    7027068\n",
       "dtype: int64"
      ]
     },
     "execution_count": 7,
     "metadata": {},
     "output_type": "execute_result"
    }
   ],
   "source": [
    "complaints_db.count()"
   ]
  },
  {
   "cell_type": "code",
   "execution_count": 8,
   "metadata": {},
   "outputs": [
    {
     "data": {
      "text/html": [
       "<div>\n",
       "<style scoped>\n",
       "    .dataframe tbody tr th:only-of-type {\n",
       "        vertical-align: middle;\n",
       "    }\n",
       "\n",
       "    .dataframe tbody tr th {\n",
       "        vertical-align: top;\n",
       "    }\n",
       "\n",
       "    .dataframe thead th {\n",
       "        text-align: right;\n",
       "    }\n",
       "</style>\n",
       "<table border=\"1\" class=\"dataframe\">\n",
       "  <thead>\n",
       "    <tr style=\"text-align: right;\">\n",
       "      <th></th>\n",
       "      <th>date received</th>\n",
       "      <th>product</th>\n",
       "      <th>sub-product</th>\n",
       "      <th>issue</th>\n",
       "      <th>sub-issue</th>\n",
       "      <th>company public response</th>\n",
       "      <th>company</th>\n",
       "      <th>state</th>\n",
       "      <th>zip code</th>\n",
       "      <th>consumer consent provided?</th>\n",
       "      <th>submitted via</th>\n",
       "      <th>date sent to company</th>\n",
       "      <th>company response to consumer</th>\n",
       "      <th>timely response?</th>\n",
       "      <th>complaint id</th>\n",
       "    </tr>\n",
       "  </thead>\n",
       "  <tbody>\n",
       "    <tr>\n",
       "      <th>0</th>\n",
       "      <td>2021-08-02</td>\n",
       "      <td>Credit reporting, credit repair services, or o...</td>\n",
       "      <td>Credit reporting</td>\n",
       "      <td>Incorrect information on your report</td>\n",
       "      <td>Information belongs to someone else</td>\n",
       "      <td>NaN</td>\n",
       "      <td>EQUIFAX, INC.</td>\n",
       "      <td>TN</td>\n",
       "      <td>37221</td>\n",
       "      <td>Consent not provided</td>\n",
       "      <td>Web</td>\n",
       "      <td>2021-08-02</td>\n",
       "      <td>Closed with explanation</td>\n",
       "      <td>Yes</td>\n",
       "      <td>4595998</td>\n",
       "    </tr>\n",
       "    <tr>\n",
       "      <th>1</th>\n",
       "      <td>2022-01-12</td>\n",
       "      <td>Credit card or prepaid card</td>\n",
       "      <td>General-purpose credit card or charge card</td>\n",
       "      <td>Problem when making payments</td>\n",
       "      <td>Problem during payment process</td>\n",
       "      <td>Company has responded to the consumer and the ...</td>\n",
       "      <td>SYNCHRONY FINANCIAL</td>\n",
       "      <td>RI</td>\n",
       "      <td>028XX</td>\n",
       "      <td>Consent provided</td>\n",
       "      <td>Web</td>\n",
       "      <td>2022-01-12</td>\n",
       "      <td>Closed with monetary relief</td>\n",
       "      <td>Yes</td>\n",
       "      <td>5105568</td>\n",
       "    </tr>\n",
       "  </tbody>\n",
       "</table>\n",
       "</div>"
      ],
      "text/plain": [
       "  date received                                            product  \\\n",
       "0    2021-08-02  Credit reporting, credit repair services, or o...   \n",
       "1    2022-01-12                        Credit card or prepaid card   \n",
       "\n",
       "                                  sub-product  \\\n",
       "0                            Credit reporting   \n",
       "1  General-purpose credit card or charge card   \n",
       "\n",
       "                                  issue                            sub-issue  \\\n",
       "0  Incorrect information on your report  Information belongs to someone else   \n",
       "1          Problem when making payments       Problem during payment process   \n",
       "\n",
       "                             company public response              company  \\\n",
       "0                                                NaN        EQUIFAX, INC.   \n",
       "1  Company has responded to the consumer and the ...  SYNCHRONY FINANCIAL   \n",
       "\n",
       "  state zip code consumer consent provided? submitted via  \\\n",
       "0    TN    37221       Consent not provided           Web   \n",
       "1    RI    028XX           Consent provided           Web   \n",
       "\n",
       "  date sent to company company response to consumer timely response?  \\\n",
       "0           2021-08-02      Closed with explanation              Yes   \n",
       "1           2022-01-12  Closed with monetary relief              Yes   \n",
       "\n",
       "   complaint id  \n",
       "0       4595998  \n",
       "1       5105568  "
      ]
     },
     "execution_count": 8,
     "metadata": {},
     "output_type": "execute_result"
    }
   ],
   "source": [
    "# Preview of complaints database\n",
    "complaints_db.head(2)"
   ]
  },
  {
   "cell_type": "code",
   "execution_count": 9,
   "metadata": {},
   "outputs": [],
   "source": [
    "# Convert Date Received and Date Sent To Company to datetime\n",
    "complaints_db['date received'] = pd.to_datetime(complaints_db['date received'])\n",
    "complaints_db['date sent to company'] = pd.to_datetime(complaints_db['date sent to company'])"
   ]
  },
  {
   "cell_type": "code",
   "execution_count": 10,
   "metadata": {},
   "outputs": [
    {
     "name": "stderr",
     "output_type": "stream",
     "text": [
      "C:\\Users\\janak\\AppData\\Local\\Temp\\ipykernel_24892\\3738152284.py:1: FutureWarning: Downcasting behavior in `replace` is deprecated and will be removed in a future version. To retain the old behavior, explicitly call `result.infer_objects(copy=False)`. To opt-in to the future behavior, set `pd.set_option('future.no_silent_downcasting', True)`\n",
      "  complaints_db['timely response?'] = complaints_db['timely response?'].replace({'Yes': True, 'No': False})\n"
     ]
    }
   ],
   "source": [
    "complaints_db['timely response?'] = complaints_db['timely response?'].replace({'Yes': True, 'No': False})\n",
    "#complaints_db['Consumer disputed?'] = complaints_db['Consumer disputed?'].replace({'Yes': True, 'No': False})"
   ]
  },
  {
   "cell_type": "code",
   "execution_count": 11,
   "metadata": {},
   "outputs": [
    {
     "name": "stdout",
     "output_type": "stream",
     "text": [
      "<class 'pandas.core.frame.DataFrame'>\n",
      "RangeIndex: 7027068 entries, 0 to 7027067\n",
      "Data columns (total 15 columns):\n",
      " #   Column                        Dtype         \n",
      "---  ------                        -----         \n",
      " 0   date received                 datetime64[ns]\n",
      " 1   product                       object        \n",
      " 2   sub-product                   object        \n",
      " 3   issue                         object        \n",
      " 4   sub-issue                     object        \n",
      " 5   company public response       object        \n",
      " 6   company                       object        \n",
      " 7   state                         object        \n",
      " 8   zip code                      object        \n",
      " 9   consumer consent provided?    object        \n",
      " 10  submitted via                 object        \n",
      " 11  date sent to company          datetime64[ns]\n",
      " 12  company response to consumer  object        \n",
      " 13  timely response?              bool          \n",
      " 14  complaint id                  int64         \n",
      "dtypes: bool(1), datetime64[ns](2), int64(1), object(11)\n",
      "memory usage: 757.3+ MB\n"
     ]
    }
   ],
   "source": [
    "complaints_db.info()"
   ]
  },
  {
   "cell_type": "code",
   "execution_count": 12,
   "metadata": {},
   "outputs": [],
   "source": [
    "# Convert Timely response? column to boolean\n",
    "complaints_db['timely response?'] = complaints_db['timely response?'].astype(bool)\n",
    "#complaints_metadata['Consumer disputed?'] = complaints_metadata['Consumer disputed?'].astype(bool)"
   ]
  },
  {
   "cell_type": "code",
   "execution_count": 40,
   "metadata": {},
   "outputs": [
    {
     "name": "stdout",
     "output_type": "stream",
     "text": [
      "<class 'pandas.core.frame.DataFrame'>\n",
      "RangeIndex: 7027068 entries, 0 to 7027067\n",
      "Data columns (total 15 columns):\n",
      " #   Column                        Dtype         \n",
      "---  ------                        -----         \n",
      " 0   date received                 datetime64[ns]\n",
      " 1   product                       object        \n",
      " 2   sub-product                   object        \n",
      " 3   issue                         object        \n",
      " 4   sub-issue                     object        \n",
      " 5   company public response       object        \n",
      " 6   company                       object        \n",
      " 7   state                         object        \n",
      " 8   zip code                      object        \n",
      " 9   consumer consent provided?    object        \n",
      " 10  submitted via                 object        \n",
      " 11  date sent to company          datetime64[ns]\n",
      " 12  company response to consumer  object        \n",
      " 13  timely response?              bool          \n",
      " 14  complaint id                  int64         \n",
      "dtypes: bool(1), datetime64[ns](2), int64(1), object(11)\n",
      "memory usage: 757.3+ MB\n"
     ]
    }
   ],
   "source": [
    "complaints_db.info()"
   ]
  },
  {
   "cell_type": "code",
   "execution_count": 14,
   "metadata": {},
   "outputs": [
    {
     "data": {
      "text/plain": [
       "7027068"
      ]
     },
     "execution_count": 14,
     "metadata": {},
     "output_type": "execute_result"
    }
   ],
   "source": [
    "# Number of rows in dataframe\n",
    "len(complaints_db)"
   ]
  },
  {
   "cell_type": "code",
   "execution_count": 15,
   "metadata": {},
   "outputs": [],
   "source": [
    "# Filtered to only complaints in 2024 calender year\n",
    "clean_database = complaints_db[(complaints_db['date received'] >= \"2024-01-01\") & (complaints_db['date received'] <= \"2024-12-31\")]"
   ]
  },
  {
   "cell_type": "code",
   "execution_count": 41,
   "metadata": {},
   "outputs": [],
   "source": [
    "sample_data = clean_database.sample(n=5000, random_state=1)"
   ]
  },
  {
   "cell_type": "code",
   "execution_count": 42,
   "metadata": {},
   "outputs": [
    {
     "data": {
      "text/html": [
       "<div>\n",
       "<style scoped>\n",
       "    .dataframe tbody tr th:only-of-type {\n",
       "        vertical-align: middle;\n",
       "    }\n",
       "\n",
       "    .dataframe tbody tr th {\n",
       "        vertical-align: top;\n",
       "    }\n",
       "\n",
       "    .dataframe thead th {\n",
       "        text-align: right;\n",
       "    }\n",
       "</style>\n",
       "<table border=\"1\" class=\"dataframe\">\n",
       "  <thead>\n",
       "    <tr style=\"text-align: right;\">\n",
       "      <th></th>\n",
       "      <th>date received</th>\n",
       "      <th>product</th>\n",
       "      <th>sub-product</th>\n",
       "      <th>issue</th>\n",
       "      <th>sub-issue</th>\n",
       "      <th>company public response</th>\n",
       "      <th>company</th>\n",
       "      <th>state</th>\n",
       "      <th>zip code</th>\n",
       "      <th>consumer consent provided?</th>\n",
       "      <th>submitted via</th>\n",
       "      <th>date sent to company</th>\n",
       "      <th>company response to consumer</th>\n",
       "      <th>timely response?</th>\n",
       "      <th>complaint id</th>\n",
       "    </tr>\n",
       "  </thead>\n",
       "  <tbody>\n",
       "    <tr>\n",
       "      <th>543303</th>\n",
       "      <td>2024-10-01</td>\n",
       "      <td>Credit reporting, credit repair services, or o...</td>\n",
       "      <td>Credit reporting</td>\n",
       "      <td>Improper use of your report</td>\n",
       "      <td>Reporting company used your report improperly</td>\n",
       "      <td>Company has responded to the consumer and the ...</td>\n",
       "      <td>Experian Information Solutions Inc.</td>\n",
       "      <td>CA</td>\n",
       "      <td>95823</td>\n",
       "      <td>Consent not provided</td>\n",
       "      <td>Web</td>\n",
       "      <td>2024-10-01</td>\n",
       "      <td>Closed with explanation</td>\n",
       "      <td>True</td>\n",
       "      <td>10302079</td>\n",
       "    </tr>\n",
       "    <tr>\n",
       "      <th>1350693</th>\n",
       "      <td>2024-07-24</td>\n",
       "      <td>Credit reporting, credit repair services, or o...</td>\n",
       "      <td>Credit reporting</td>\n",
       "      <td>Problem with a company's investigation into an...</td>\n",
       "      <td>Their investigation did not fix an error on yo...</td>\n",
       "      <td>Not Applicable</td>\n",
       "      <td>EQUIFAX, INC.</td>\n",
       "      <td>IN</td>\n",
       "      <td>46237</td>\n",
       "      <td>Consent not provided</td>\n",
       "      <td>Web</td>\n",
       "      <td>2024-07-24</td>\n",
       "      <td>Closed with explanation</td>\n",
       "      <td>True</td>\n",
       "      <td>9604506</td>\n",
       "    </tr>\n",
       "    <tr>\n",
       "      <th>2319311</th>\n",
       "      <td>2024-02-16</td>\n",
       "      <td>Credit reporting, credit repair services, or o...</td>\n",
       "      <td>Credit reporting</td>\n",
       "      <td>Incorrect information on your report</td>\n",
       "      <td>Personal information incorrect</td>\n",
       "      <td>Company has responded to the consumer and the ...</td>\n",
       "      <td>TRANSUNION INTERMEDIATE HOLDINGS, INC.</td>\n",
       "      <td>CA</td>\n",
       "      <td>90249</td>\n",
       "      <td>Consent provided</td>\n",
       "      <td>Web</td>\n",
       "      <td>2024-02-16</td>\n",
       "      <td>Closed with non-monetary relief</td>\n",
       "      <td>True</td>\n",
       "      <td>8350834</td>\n",
       "    </tr>\n",
       "    <tr>\n",
       "      <th>208771</th>\n",
       "      <td>2024-12-05</td>\n",
       "      <td>Credit reporting, credit repair services, or o...</td>\n",
       "      <td>Credit reporting</td>\n",
       "      <td>Incorrect information on your report</td>\n",
       "      <td>Personal information incorrect</td>\n",
       "      <td>Not Applicable</td>\n",
       "      <td>Experian Information Solutions Inc.</td>\n",
       "      <td>NJ</td>\n",
       "      <td>07514</td>\n",
       "      <td>NaN</td>\n",
       "      <td>Web</td>\n",
       "      <td>2024-12-05</td>\n",
       "      <td>In progress</td>\n",
       "      <td>True</td>\n",
       "      <td>11034718</td>\n",
       "    </tr>\n",
       "  </tbody>\n",
       "</table>\n",
       "</div>"
      ],
      "text/plain": [
       "        date received                                            product  \\\n",
       "543303     2024-10-01  Credit reporting, credit repair services, or o...   \n",
       "1350693    2024-07-24  Credit reporting, credit repair services, or o...   \n",
       "2319311    2024-02-16  Credit reporting, credit repair services, or o...   \n",
       "208771     2024-12-05  Credit reporting, credit repair services, or o...   \n",
       "\n",
       "              sub-product                                              issue  \\\n",
       "543303   Credit reporting                        Improper use of your report   \n",
       "1350693  Credit reporting  Problem with a company's investigation into an...   \n",
       "2319311  Credit reporting               Incorrect information on your report   \n",
       "208771   Credit reporting               Incorrect information on your report   \n",
       "\n",
       "                                                 sub-issue  \\\n",
       "543303       Reporting company used your report improperly   \n",
       "1350693  Their investigation did not fix an error on yo...   \n",
       "2319311                     Personal information incorrect   \n",
       "208771                      Personal information incorrect   \n",
       "\n",
       "                                   company public response  \\\n",
       "543303   Company has responded to the consumer and the ...   \n",
       "1350693                                     Not Applicable   \n",
       "2319311  Company has responded to the consumer and the ...   \n",
       "208771                                      Not Applicable   \n",
       "\n",
       "                                        company state zip code  \\\n",
       "543303      Experian Information Solutions Inc.    CA    95823   \n",
       "1350693                           EQUIFAX, INC.    IN    46237   \n",
       "2319311  TRANSUNION INTERMEDIATE HOLDINGS, INC.    CA    90249   \n",
       "208771      Experian Information Solutions Inc.    NJ    07514   \n",
       "\n",
       "        consumer consent provided? submitted via date sent to company  \\\n",
       "543303        Consent not provided           Web           2024-10-01   \n",
       "1350693       Consent not provided           Web           2024-07-24   \n",
       "2319311           Consent provided           Web           2024-02-16   \n",
       "208771                         NaN           Web           2024-12-05   \n",
       "\n",
       "            company response to consumer  timely response?  complaint id  \n",
       "543303           Closed with explanation              True      10302079  \n",
       "1350693          Closed with explanation              True       9604506  \n",
       "2319311  Closed with non-monetary relief              True       8350834  \n",
       "208771                       In progress              True      11034718  "
      ]
     },
     "execution_count": 42,
     "metadata": {},
     "output_type": "execute_result"
    }
   ],
   "source": [
    "sample_data.head(4)"
   ]
  },
  {
   "cell_type": "code",
   "execution_count": 43,
   "metadata": {},
   "outputs": [
    {
     "data": {
      "text/plain": [
       "5000"
      ]
     },
     "execution_count": 43,
     "metadata": {},
     "output_type": "execute_result"
    }
   ],
   "source": [
    "# Find number of complaints in 2024\n",
    "len(sample_data)"
   ]
  },
  {
   "cell_type": "code",
   "execution_count": 44,
   "metadata": {},
   "outputs": [
    {
     "data": {
      "text/plain": [
       "5000"
      ]
     },
     "execution_count": 44,
     "metadata": {},
     "output_type": "execute_result"
    }
   ],
   "source": [
    "# Count of Complaint ID column confirms each row is a unique compaint\n",
    "# when compared against the row count above.\n",
    "sample_data[\"complaint id\"].nunique()"
   ]
  },
  {
   "cell_type": "code",
   "execution_count": 45,
   "metadata": {},
   "outputs": [
    {
     "data": {
      "text/plain": [
       "15"
      ]
     },
     "execution_count": 45,
     "metadata": {},
     "output_type": "execute_result"
    }
   ],
   "source": [
    "# Number of columns in panda dataframe\n",
    "len(sample_data.columns)\n"
   ]
  },
  {
   "cell_type": "code",
   "execution_count": 46,
   "metadata": {},
   "outputs": [
    {
     "data": {
      "text/plain": [
       "240"
      ]
     },
     "execution_count": 46,
     "metadata": {},
     "output_type": "execute_result"
    }
   ],
   "source": [
    "# Number of companies represented in database.\n",
    "number_of_companies = sample_data[\"company\"].nunique()\n",
    "number_of_companies"
   ]
  },
  {
   "cell_type": "code",
   "execution_count": 47,
   "metadata": {},
   "outputs": [
    {
     "data": {
      "text/plain": [
       "state\n",
       "FL    710\n",
       "TX    634\n",
       "CA    528\n",
       "GA    401\n",
       "NY    331\n",
       "PA    238\n",
       "IL    232\n",
       "NJ    166\n",
       "NC    143\n",
       "MI    140\n",
       "Name: count, dtype: int64"
      ]
     },
     "execution_count": 47,
     "metadata": {},
     "output_type": "execute_result"
    }
   ],
   "source": [
    "# States with the most complaints\n",
    "states = sample_data[\"state\"].value_counts()\n",
    "states.head(10)"
   ]
  },
  {
   "cell_type": "code",
   "execution_count": 66,
   "metadata": {},
   "outputs": [
    {
     "data": {
      "text/plain": [
       "state\n",
       "SD    1\n",
       "VT    1\n",
       "AE    1\n",
       "AP    1\n",
       "ND    2\n",
       "WY    3\n",
       "AK    3\n",
       "ME    4\n",
       "MT    4\n",
       "VI    4\n",
       "Name: count, dtype: int64"
      ]
     },
     "execution_count": 66,
     "metadata": {},
     "output_type": "execute_result"
    }
   ],
   "source": [
    "# State column has 63 unique entries, including... \n",
    "# Armed Forces (AA), (AE), (AP), \n",
    "# American Samoa (AS), Guam (GU), Northern Mariana Islands (MP)\n",
    "# Virgin Islands (VI), Minor Islands, Marshall Islands (MH)\n",
    "# Micronesia (FM), Palau (PW), \n",
    "statess = sample_data[\"state\"].value_counts()\n",
    "sorted_states = statess.sort_values(ascending=True)\n",
    "sorted_states.head(10)"
   ]
  },
  {
   "cell_type": "code",
   "execution_count": 49,
   "metadata": {},
   "outputs": [
    {
     "data": {
      "text/plain": [
       "company\n",
       "EQUIFAX, INC.                             1442\n",
       "TRANSUNION INTERMEDIATE HOLDINGS, INC.    1440\n",
       "Experian Information Solutions Inc.       1344\n",
       "CAPITAL ONE FINANCIAL CORPORATION           38\n",
       "BANK OF AMERICA, NATIONAL ASSOCIATION       35\n",
       "Resurgent Capital Services L.P.             28\n",
       "WELLS FARGO & COMPANY                       28\n",
       "CITIBANK, N.A.                              26\n",
       "LEXISNEXIS                                  25\n",
       "ENCORE CAPITAL GROUP INC.                   25\n",
       "JPMORGAN CHASE & CO.                        20\n",
       "SYNCHRONY FINANCIAL                         19\n",
       "AMERICAN EXPRESS COMPANY                    18\n",
       "NAVY FEDERAL CREDIT UNION                   14\n",
       "CL Holdings LLC                             12\n",
       "Chime Financial Inc                         12\n",
       "PORTFOLIO RECOVERY ASSOCIATES INC           11\n",
       "CBC Companies, Inc.                         11\n",
       "Bread Financial Holdings, Inc.              10\n",
       "DISCOVER BANK                                9\n",
       "Name: count, dtype: int64"
      ]
     },
     "execution_count": 49,
     "metadata": {},
     "output_type": "execute_result"
    }
   ],
   "source": [
    "# Companies with the most complaints filed\n",
    "company_complaints_total = sample_data[\"company\"].value_counts()\n",
    "company_complaints_total.head(20)"
   ]
  },
  {
   "cell_type": "code",
   "execution_count": 50,
   "metadata": {},
   "outputs": [
    {
     "data": {
      "text/plain": [
       "company\n",
       "Velocity Portfolio Group                          1\n",
       "M&T BANK CORPORATION                              1\n",
       "Roadrunner Account Services, LLC                  1\n",
       "Crown Asset Management, LLC, Duluth, GA Branch    1\n",
       "TekCollect Inc.                                   1\n",
       "FCI Lender Services Inc.                          1\n",
       "FIRST PORTFOLIO SERVICING INC                     1\n",
       "Sentry Credit, Inc.                               1\n",
       "Next Financial Inc. dba Copper                    1\n",
       "Commercial Acceptance Company                     1\n",
       "Name: count, dtype: int64"
      ]
     },
     "execution_count": 50,
     "metadata": {},
     "output_type": "execute_result"
    }
   ],
   "source": [
    "# Over 3000 of the 4609 companies have fewer than 10 complaints filed in the database\n",
    "fewest_complaints = company_complaints_total.sort_values(ascending=True)\n",
    "fewest_complaints.head(10)"
   ]
  },
  {
   "cell_type": "code",
   "execution_count": 51,
   "metadata": {},
   "outputs": [
    {
     "data": {
      "text/plain": [
       "submitted via\n",
       "Web            4920\n",
       "Phone            48\n",
       "Referral         23\n",
       "Postal mail       9\n",
       "Name: count, dtype: int64"
      ]
     },
     "execution_count": 51,
     "metadata": {},
     "output_type": "execute_result"
    }
   ],
   "source": [
    "# Different methods of complaint submissions\n",
    "submissions = sample_data[\"submitted via\"].value_counts()\n",
    "submissions"
   ]
  },
  {
   "cell_type": "code",
   "execution_count": null,
   "metadata": {},
   "outputs": [
    {
     "name": "stderr",
     "output_type": "stream",
     "text": [
      "C:\\Users\\janak\\AppData\\Local\\Temp\\ipykernel_24892\\457734559.py:2: SettingWithCopyWarning: \n",
      "A value is trying to be set on a copy of a slice from a DataFrame\n",
      "\n",
      "See the caveats in the documentation: https://pandas.pydata.org/pandas-docs/stable/user_guide/indexing.html#returning-a-view-versus-a-copy\n",
      "  merge_db.rename(index={'Payday loan': 'Payday loan, title loan, personal loan, or advance loan'}, inplace=True)\n"
     ]
    },
    {
     "data": {
      "text/html": [
       "<div>\n",
       "<style scoped>\n",
       "    .dataframe tbody tr th:only-of-type {\n",
       "        vertical-align: middle;\n",
       "    }\n",
       "\n",
       "    .dataframe tbody tr th {\n",
       "        vertical-align: top;\n",
       "    }\n",
       "\n",
       "    .dataframe thead th {\n",
       "        text-align: right;\n",
       "    }\n",
       "</style>\n",
       "<table border=\"1\" class=\"dataframe\">\n",
       "  <thead>\n",
       "    <tr style=\"text-align: right;\">\n",
       "      <th></th>\n",
       "      <th>date received</th>\n",
       "      <th>product</th>\n",
       "      <th>sub-product</th>\n",
       "      <th>issue</th>\n",
       "      <th>sub-issue</th>\n",
       "      <th>company public response</th>\n",
       "      <th>company</th>\n",
       "      <th>state</th>\n",
       "      <th>zip code</th>\n",
       "      <th>consumer consent provided?</th>\n",
       "      <th>submitted via</th>\n",
       "      <th>date sent to company</th>\n",
       "      <th>company response to consumer</th>\n",
       "      <th>timely response?</th>\n",
       "      <th>complaint id</th>\n",
       "    </tr>\n",
       "  </thead>\n",
       "  <tbody>\n",
       "    <tr>\n",
       "      <th>5</th>\n",
       "      <td>2024-12-10</td>\n",
       "      <td>Credit reporting or other personal consumer re...</td>\n",
       "      <td>Credit reporting</td>\n",
       "      <td>Problem with a company's investigation into an...</td>\n",
       "      <td>Their investigation did not fix an error on yo...</td>\n",
       "      <td>NaN</td>\n",
       "      <td>EQUIFAX, INC.</td>\n",
       "      <td>IL</td>\n",
       "      <td>60958</td>\n",
       "      <td>NaN</td>\n",
       "      <td>Web</td>\n",
       "      <td>2024-12-10</td>\n",
       "      <td>In progress</td>\n",
       "      <td>True</td>\n",
       "      <td>11092114</td>\n",
       "    </tr>\n",
       "    <tr>\n",
       "      <th>6</th>\n",
       "      <td>2024-12-10</td>\n",
       "      <td>Credit reporting or other personal consumer re...</td>\n",
       "      <td>Credit reporting</td>\n",
       "      <td>Incorrect information on your report</td>\n",
       "      <td>Information belongs to someone else</td>\n",
       "      <td>NaN</td>\n",
       "      <td>TRANSUNION INTERMEDIATE HOLDINGS, INC.</td>\n",
       "      <td>FL</td>\n",
       "      <td>33572</td>\n",
       "      <td>NaN</td>\n",
       "      <td>Web</td>\n",
       "      <td>2024-12-10</td>\n",
       "      <td>In progress</td>\n",
       "      <td>True</td>\n",
       "      <td>11092116</td>\n",
       "    </tr>\n",
       "  </tbody>\n",
       "</table>\n",
       "</div>"
      ],
      "text/plain": [
       "  date received                                            product  \\\n",
       "5    2024-12-10  Credit reporting or other personal consumer re...   \n",
       "6    2024-12-10  Credit reporting or other personal consumer re...   \n",
       "\n",
       "        sub-product                                              issue  \\\n",
       "5  Credit reporting  Problem with a company's investigation into an...   \n",
       "6  Credit reporting               Incorrect information on your report   \n",
       "\n",
       "                                           sub-issue company public response  \\\n",
       "5  Their investigation did not fix an error on yo...                     NaN   \n",
       "6                Information belongs to someone else                     NaN   \n",
       "\n",
       "                                  company state zip code  \\\n",
       "5                           EQUIFAX, INC.    IL    60958   \n",
       "6  TRANSUNION INTERMEDIATE HOLDINGS, INC.    FL    33572   \n",
       "\n",
       "  consumer consent provided? submitted via date sent to company  \\\n",
       "5                        NaN           Web           2024-12-10   \n",
       "6                        NaN           Web           2024-12-10   \n",
       "\n",
       "  company response to consumer  timely response?  complaint id  \n",
       "5                  In progress              True      11092114  \n",
       "6                  In progress              True      11092116  "
      ]
     },
     "execution_count": 26,
     "metadata": {},
     "output_type": "execute_result"
    }
   ],
   "source": [
    "# merge_db = clean_database\n",
    "# merge_db.rename(index={'Payday loan': 'Payday loan, title loan, personal loan, or advance loan'}, inplace=True)\n",
    "# merge_db.head(2)"
   ]
  },
  {
   "cell_type": "code",
   "execution_count": 52,
   "metadata": {},
   "outputs": [],
   "source": [
    "# Combine similar values in the product column\n",
    "merge_db = sample_data\n",
    "merge_db[\"product\"]=merge_db[\"product\"].replace({\n",
    "    \"Payday loan\" : \"Payday loan, title loan, personal loan, or advance loan\",\n",
    "    \"Payday loan, title loan, or personal loan\" : \"Payday loan, title loan, personal loan, or advance loan\",\n",
    "    \"Credit card\" : \"Credit card or prepaid card\",\n",
    "    \"Prepaid card\" : \"Credit card or prepaid card\",\n",
    "    \"Credit reporting or other personal consumer reports\" : \"Credit reporting, credit repair services, or other personal consumer reports\",\n",
    "    \"Credit reporting\" : \"Credit reporting, credit repair services, or other personal consumer reports\",\n",
    "    \"Money transfers\" : \"Money transfer, virtual currency, or money service\",\n",
    "    \"Virtual currency\" : \"Money transfer, virtual currency, or money service\"\n",
    "    }) "
   ]
  },
  {
   "cell_type": "code",
   "execution_count": 53,
   "metadata": {},
   "outputs": [],
   "source": [
    "# Replace NaN value with Not Applicable in company public response column\n",
    "merge_db[\"company public response\"] = merge_db[\"company public response\"].fillna('Not Applicable')"
   ]
  },
  {
   "cell_type": "code",
   "execution_count": 54,
   "metadata": {},
   "outputs": [
    {
     "data": {
      "text/plain": [
       "5000"
      ]
     },
     "execution_count": 54,
     "metadata": {},
     "output_type": "execute_result"
    }
   ],
   "source": [
    "# Reconfirm length of database is same as above.\n",
    "len(merge_db)"
   ]
  },
  {
   "cell_type": "code",
   "execution_count": 55,
   "metadata": {},
   "outputs": [
    {
     "data": {
      "text/html": [
       "<div>\n",
       "<style scoped>\n",
       "    .dataframe tbody tr th:only-of-type {\n",
       "        vertical-align: middle;\n",
       "    }\n",
       "\n",
       "    .dataframe tbody tr th {\n",
       "        vertical-align: top;\n",
       "    }\n",
       "\n",
       "    .dataframe thead th {\n",
       "        text-align: right;\n",
       "    }\n",
       "</style>\n",
       "<table border=\"1\" class=\"dataframe\">\n",
       "  <thead>\n",
       "    <tr style=\"text-align: right;\">\n",
       "      <th></th>\n",
       "      <th>date received</th>\n",
       "      <th>product</th>\n",
       "      <th>sub-product</th>\n",
       "      <th>issue</th>\n",
       "      <th>sub-issue</th>\n",
       "      <th>company public response</th>\n",
       "      <th>company</th>\n",
       "      <th>state</th>\n",
       "      <th>zip code</th>\n",
       "      <th>consumer consent provided?</th>\n",
       "      <th>submitted via</th>\n",
       "      <th>date sent to company</th>\n",
       "      <th>company response to consumer</th>\n",
       "      <th>timely response?</th>\n",
       "      <th>complaint id</th>\n",
       "    </tr>\n",
       "  </thead>\n",
       "  <tbody>\n",
       "    <tr>\n",
       "      <th>543303</th>\n",
       "      <td>2024-10-01</td>\n",
       "      <td>Credit reporting, credit repair services, or o...</td>\n",
       "      <td>Credit reporting</td>\n",
       "      <td>Improper use of your report</td>\n",
       "      <td>Reporting company used your report improperly</td>\n",
       "      <td>Company has responded to the consumer and the ...</td>\n",
       "      <td>Experian Information Solutions Inc.</td>\n",
       "      <td>CA</td>\n",
       "      <td>95823</td>\n",
       "      <td>Consent not provided</td>\n",
       "      <td>Web</td>\n",
       "      <td>2024-10-01</td>\n",
       "      <td>Closed with explanation</td>\n",
       "      <td>True</td>\n",
       "      <td>10302079</td>\n",
       "    </tr>\n",
       "    <tr>\n",
       "      <th>1350693</th>\n",
       "      <td>2024-07-24</td>\n",
       "      <td>Credit reporting, credit repair services, or o...</td>\n",
       "      <td>Credit reporting</td>\n",
       "      <td>Problem with a company's investigation into an...</td>\n",
       "      <td>Their investigation did not fix an error on yo...</td>\n",
       "      <td>Not Applicable</td>\n",
       "      <td>EQUIFAX, INC.</td>\n",
       "      <td>IN</td>\n",
       "      <td>46237</td>\n",
       "      <td>Consent not provided</td>\n",
       "      <td>Web</td>\n",
       "      <td>2024-07-24</td>\n",
       "      <td>Closed with explanation</td>\n",
       "      <td>True</td>\n",
       "      <td>9604506</td>\n",
       "    </tr>\n",
       "  </tbody>\n",
       "</table>\n",
       "</div>"
      ],
      "text/plain": [
       "        date received                                            product  \\\n",
       "543303     2024-10-01  Credit reporting, credit repair services, or o...   \n",
       "1350693    2024-07-24  Credit reporting, credit repair services, or o...   \n",
       "\n",
       "              sub-product                                              issue  \\\n",
       "543303   Credit reporting                        Improper use of your report   \n",
       "1350693  Credit reporting  Problem with a company's investigation into an...   \n",
       "\n",
       "                                                 sub-issue  \\\n",
       "543303       Reporting company used your report improperly   \n",
       "1350693  Their investigation did not fix an error on yo...   \n",
       "\n",
       "                                   company public response  \\\n",
       "543303   Company has responded to the consumer and the ...   \n",
       "1350693                                     Not Applicable   \n",
       "\n",
       "                                     company state zip code  \\\n",
       "543303   Experian Information Solutions Inc.    CA    95823   \n",
       "1350693                        EQUIFAX, INC.    IN    46237   \n",
       "\n",
       "        consumer consent provided? submitted via date sent to company  \\\n",
       "543303        Consent not provided           Web           2024-10-01   \n",
       "1350693       Consent not provided           Web           2024-07-24   \n",
       "\n",
       "        company response to consumer  timely response?  complaint id  \n",
       "543303       Closed with explanation              True      10302079  \n",
       "1350693      Closed with explanation              True       9604506  "
      ]
     },
     "execution_count": 55,
     "metadata": {},
     "output_type": "execute_result"
    }
   ],
   "source": [
    "# Preview of new merge_db\n",
    "merge_db.head(2)"
   ]
  },
  {
   "cell_type": "code",
   "execution_count": 56,
   "metadata": {},
   "outputs": [
    {
     "data": {
      "text/plain": [
       "company public response\n",
       "Not Applicable                                                                                                             2564\n",
       "Company has responded to the consumer and the CFPB and chooses not to provide a public response                            2378\n",
       "Company believes it acted appropriately as authorized by contract or law                                                     46\n",
       "Company disputes the facts presented in the complaint                                                                         5\n",
       "Company believes the complaint is the result of a misunderstanding                                                            2\n",
       "Company believes the complaint provided an opportunity to answer consumer's questions                                         2\n",
       "Company can't verify or dispute the facts in the complaint                                                                    1\n",
       "Company believes complaint caused principally by actions of third party outside the control or direction of the company       1\n",
       "Company believes complaint is the result of an isolated error                                                                 1\n",
       "Name: count, dtype: int64"
      ]
     },
     "execution_count": 56,
     "metadata": {},
     "output_type": "execute_result"
    }
   ],
   "source": [
    "merge_db[\"company public response\"].value_counts().head(20)"
   ]
  },
  {
   "cell_type": "code",
   "execution_count": 57,
   "metadata": {},
   "outputs": [
    {
     "data": {
      "text/plain": [
       "company response to consumer\n",
       "Closed with non-monetary relief    2108\n",
       "Closed with explanation            1955\n",
       "In progress                         901\n",
       "Closed with monetary relief          35\n",
       "Untimely response                     1\n",
       "Name: count, dtype: int64"
      ]
     },
     "execution_count": 57,
     "metadata": {},
     "output_type": "execute_result"
    }
   ],
   "source": [
    "# Different complain outcomes\n",
    "outcomes = merge_db[\"company response to consumer\"].value_counts()\n",
    "outcomes"
   ]
  },
  {
   "cell_type": "code",
   "execution_count": 58,
   "metadata": {},
   "outputs": [
    {
     "data": {
      "text/plain": [
       "timely response?\n",
       "True     4991\n",
       "False       9\n",
       "Name: count, dtype: int64"
      ]
     },
     "execution_count": 58,
     "metadata": {},
     "output_type": "execute_result"
    }
   ],
   "source": [
    "# Timely response column\n",
    "timely = merge_db[\"timely response?\"].value_counts()\n",
    "timely"
   ]
  },
  {
   "cell_type": "code",
   "execution_count": 59,
   "metadata": {},
   "outputs": [
    {
     "data": {
      "text/plain": [
       "consumer consent provided?\n",
       "Consent not provided    2491\n",
       "Consent provided        1276\n",
       "Other                    199\n",
       "Consent withdrawn          4\n",
       "Name: count, dtype: int64"
      ]
     },
     "execution_count": 59,
     "metadata": {},
     "output_type": "execute_result"
    }
   ],
   "source": [
    "# Customed consent column. Possible ethical issue.\n",
    "ethical = merge_db[\"consumer consent provided?\"].value_counts()\n",
    "ethical"
   ]
  },
  {
   "cell_type": "code",
   "execution_count": 60,
   "metadata": {},
   "outputs": [
    {
     "data": {
      "text/plain": [
       "company response to consumer\n",
       "Closed with non-monetary relief    2108\n",
       "Closed with explanation            1955\n",
       "In progress                         901\n",
       "Closed with monetary relief          35\n",
       "Untimely response                     1\n",
       "Name: count, dtype: int64"
      ]
     },
     "execution_count": 60,
     "metadata": {},
     "output_type": "execute_result"
    }
   ],
   "source": [
    "ethicals = merge_db[\"company response to consumer\"].value_counts()\n",
    "ethicals"
   ]
  },
  {
   "cell_type": "code",
   "execution_count": 61,
   "metadata": {},
   "outputs": [],
   "source": [
    "merge_db.to_csv(\"Resources/sample_complaints\", index=False, header=True)"
   ]
  },
  {
   "cell_type": "code",
   "execution_count": 69,
   "metadata": {},
   "outputs": [
    {
     "data": {
      "text/html": [
       "<div>\n",
       "<style scoped>\n",
       "    .dataframe tbody tr th:only-of-type {\n",
       "        vertical-align: middle;\n",
       "    }\n",
       "\n",
       "    .dataframe tbody tr th {\n",
       "        vertical-align: top;\n",
       "    }\n",
       "\n",
       "    .dataframe thead th {\n",
       "        text-align: right;\n",
       "    }\n",
       "</style>\n",
       "<table border=\"1\" class=\"dataframe\">\n",
       "  <thead>\n",
       "    <tr style=\"text-align: right;\">\n",
       "      <th></th>\n",
       "      <th>date received</th>\n",
       "      <th>product</th>\n",
       "      <th>sub-product</th>\n",
       "      <th>issue</th>\n",
       "      <th>sub-issue</th>\n",
       "      <th>company public response</th>\n",
       "      <th>company</th>\n",
       "      <th>state</th>\n",
       "      <th>zip code</th>\n",
       "      <th>consumer consent provided?</th>\n",
       "      <th>submitted via</th>\n",
       "      <th>date sent to company</th>\n",
       "      <th>company response to consumer</th>\n",
       "      <th>timely response?</th>\n",
       "      <th>complaint id</th>\n",
       "    </tr>\n",
       "  </thead>\n",
       "  <tbody>\n",
       "    <tr>\n",
       "      <th>543303</th>\n",
       "      <td>2024-10-01</td>\n",
       "      <td>Credit reporting, credit repair services, or o...</td>\n",
       "      <td>Credit reporting</td>\n",
       "      <td>Improper use of your report</td>\n",
       "      <td>Reporting company used your report improperly</td>\n",
       "      <td>Company has responded to the consumer and the ...</td>\n",
       "      <td>Experian Information Solutions Inc.</td>\n",
       "      <td>CA</td>\n",
       "      <td>95823</td>\n",
       "      <td>Consent not provided</td>\n",
       "      <td>Web</td>\n",
       "      <td>2024-10-01</td>\n",
       "      <td>Closed with explanation</td>\n",
       "      <td>True</td>\n",
       "      <td>10302079</td>\n",
       "    </tr>\n",
       "  </tbody>\n",
       "</table>\n",
       "</div>"
      ],
      "text/plain": [
       "       date received                                            product  \\\n",
       "543303    2024-10-01  Credit reporting, credit repair services, or o...   \n",
       "\n",
       "             sub-product                        issue  \\\n",
       "543303  Credit reporting  Improper use of your report   \n",
       "\n",
       "                                            sub-issue  \\\n",
       "543303  Reporting company used your report improperly   \n",
       "\n",
       "                                  company public response  \\\n",
       "543303  Company has responded to the consumer and the ...   \n",
       "\n",
       "                                    company state zip code  \\\n",
       "543303  Experian Information Solutions Inc.    CA    95823   \n",
       "\n",
       "       consumer consent provided? submitted via date sent to company  \\\n",
       "543303       Consent not provided           Web           2024-10-01   \n",
       "\n",
       "       company response to consumer  timely response?  complaint id  \n",
       "543303      Closed with explanation              True      10302079  "
      ]
     },
     "execution_count": 69,
     "metadata": {},
     "output_type": "execute_result"
    }
   ],
   "source": [
    "merge_db.head(1)"
   ]
  },
  {
   "cell_type": "markdown",
   "metadata": {},
   "source": [
    "# How are Complaints Dispersed Across the Calendar Year 2024?"
   ]
  },
  {
   "cell_type": "code",
   "execution_count": 157,
   "metadata": {},
   "outputs": [],
   "source": [
    "#Extract month as three-letter abbreviation\n",
    "merge_db['month']=merge_db['date received'].dt.strftime('%b')"
   ]
  },
  {
   "cell_type": "code",
   "execution_count": 150,
   "metadata": {},
   "outputs": [],
   "source": [
    "#Grouping the months \n",
    "monthly_complaints = merge_db.groupby(merge_db['month'])"
   ]
  },
  {
   "cell_type": "code",
   "execution_count": 159,
   "metadata": {},
   "outputs": [
    {
     "data": {
      "text/plain": [
       "month\n",
       "Apr    394\n",
       "Aug    521\n",
       "Dec    245\n",
       "Feb    303\n",
       "Jan    272\n",
       "Jul    451\n",
       "Jun    389\n",
       "Mar    360\n",
       "May    415\n",
       "Nov    506\n",
       "Oct    587\n",
       "Sep    557\n",
       "dtype: int64"
      ]
     },
     "execution_count": 159,
     "metadata": {},
     "output_type": "execute_result"
    }
   ],
   "source": [
    "#Getting the numbers of complaints per month\n",
    "number_of_complaints = monthly_complaints.size()\n",
    "number_of_complaints"
   ]
  },
  {
   "cell_type": "code",
   "execution_count": 154,
   "metadata": {},
   "outputs": [],
   "source": [
    "#Calculating the average of the entire year\n",
    "avg_number_of_complaints = number_of_complaints.mean()"
   ]
  },
  {
   "cell_type": "code",
   "execution_count": 155,
   "metadata": {},
   "outputs": [],
   "source": [
    "#Calculating the standard deviation of the entire year\n",
    "std_dev_complaints = number_of_complaints.std()"
   ]
  },
  {
   "cell_type": "code",
   "execution_count": 156,
   "metadata": {},
   "outputs": [
    {
     "data": {
      "image/png": "[encoded data removed]",
      "text/plain": [
       "<Figure size 1000x600 with 1 Axes>"
      ]
     },
     "metadata": {},
     "output_type": "display_data"
    }
   ],
   "source": [
    "import matplotlib.pyplot as plt\n",
    "\n",
    "# Setting the figure size\n",
    "plt.figure(figsize=(10, 6))\n",
    "\n",
    "# Set the Month column as the index\n",
    "number_of_complaints = number_of_complaints.reindex(['Jan', 'Feb', 'Mar', 'Apr', 'May', 'Jun', \n",
    "                                                      'Jul', 'Aug', 'Sep', 'Oct', 'Nov', 'Dec'])\n",
    "\n",
    "# Calculate Upper Control Limit\n",
    "UCL = average_complaints + (3 * std_dev_complaints)\n",
    "\n",
    "# Plotting the line graph\n",
    "number_of_complaints.plot(kind='line', color='darkblue', marker='o',title='Number of Complaints Per Month')\n",
    "\n",
    "# Set x-ticks to display every month\n",
    "plt.xticks(ticks=range(len(number_of_complaints.index)), labels=number_of_complaints.index, rotation=90)\n",
    "\n",
    "# Add a horizontal line for the average\n",
    "plt.axhline(y=avg_number_of_complaints, color='green', linestyle='--', label='Average Complaints')\n",
    "\n",
    "# Add a horizontal line for the UCL\n",
    "plt.axhline(y=UCL, color='firebrick', linestyle='--', label='UCL (Average + 3 SD)')\n",
    "\n",
    "# Set labels and position the legend\n",
    "plt.xlabel('Months')\n",
    "plt.ylabel('Number Of Complaints')\n",
    "plt.legend(loc='upper right')\n",
    "plt.xticks(rotation=90)\n",
    "\n",
    "# Add a grid and apply tight layout\n",
    "plt.grid(True)\n",
    "plt.tight_layout()\n",
    "\n",
    "# Show the plot\n",
    "plt.show()"
   ]
  }
 ],
 "metadata": {
  "kernelspec": {
   "display_name": "dev",
   "language": "python",
   "name": "python3"
  },
  "language_info": {
   "codemirror_mode": {
    "name": "ipython",
    "version": 3
   },
   "file_extension": ".py",
   "mimetype": "text/x-python",
   "name": "python",
   "nbconvert_exporter": "python",
   "pygments_lexer": "ipython3",
   "version": "3.10.14"
  }
 },
 "nbformat": 4,
 "nbformat_minor": 2
}
