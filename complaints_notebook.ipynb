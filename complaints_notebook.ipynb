{
 "cells": [
  {
   "cell_type": "code",
   "execution_count": 2,
   "metadata": {},
   "outputs": [
    {
     "data": {
      "text/html": [
       "<div>\n",
       "<style scoped>\n",
       "    .dataframe tbody tr th:only-of-type {\n",
       "        vertical-align: middle;\n",
       "    }\n",
       "\n",
       "    .dataframe tbody tr th {\n",
       "        vertical-align: top;\n",
       "    }\n",
       "\n",
       "    .dataframe thead th {\n",
       "        text-align: right;\n",
       "    }\n",
       "</style>\n",
       "<table border=\"1\" class=\"dataframe\">\n",
       "  <thead>\n",
       "    <tr style=\"text-align: right;\">\n",
       "      <th></th>\n",
       "      <th>Date received</th>\n",
       "      <th>Product</th>\n",
       "      <th>Sub-product</th>\n",
       "      <th>Issue</th>\n",
       "      <th>Sub-issue</th>\n",
       "      <th>Consumer complaint narrative</th>\n",
       "      <th>Company public response</th>\n",
       "      <th>Company</th>\n",
       "      <th>State</th>\n",
       "      <th>ZIP code</th>\n",
       "      <th>Tags</th>\n",
       "      <th>Consumer consent provided?</th>\n",
       "      <th>Submitted via</th>\n",
       "      <th>Date sent to company</th>\n",
       "      <th>Company response to consumer</th>\n",
       "      <th>Timely response?</th>\n",
       "      <th>Consumer disputed?</th>\n",
       "      <th>Complaint ID</th>\n",
       "    </tr>\n",
       "  </thead>\n",
       "  <tbody>\n",
       "    <tr>\n",
       "      <th>0</th>\n",
       "      <td>2024-12-24</td>\n",
       "      <td>Credit reporting or other personal consumer re...</td>\n",
       "      <td>Credit reporting</td>\n",
       "      <td>Incorrect information on your report</td>\n",
       "      <td>Information belongs to someone else</td>\n",
       "      <td>NaN</td>\n",
       "      <td>NaN</td>\n",
       "      <td>Experian Information Solutions Inc.</td>\n",
       "      <td>TX</td>\n",
       "      <td>78221</td>\n",
       "      <td>NaN</td>\n",
       "      <td>NaN</td>\n",
       "      <td>Web</td>\n",
       "      <td>2024-12-24</td>\n",
       "      <td>In progress</td>\n",
       "      <td>Yes</td>\n",
       "      <td>NaN</td>\n",
       "      <td>11250892</td>\n",
       "    </tr>\n",
       "    <tr>\n",
       "      <th>1</th>\n",
       "      <td>2024-12-24</td>\n",
       "      <td>Credit reporting or other personal consumer re...</td>\n",
       "      <td>Credit reporting</td>\n",
       "      <td>Problem with a company's investigation into an...</td>\n",
       "      <td>Their investigation did not fix an error on yo...</td>\n",
       "      <td>NaN</td>\n",
       "      <td>NaN</td>\n",
       "      <td>Experian Information Solutions Inc.</td>\n",
       "      <td>TN</td>\n",
       "      <td>38016</td>\n",
       "      <td>NaN</td>\n",
       "      <td>NaN</td>\n",
       "      <td>Web</td>\n",
       "      <td>2024-12-24</td>\n",
       "      <td>In progress</td>\n",
       "      <td>Yes</td>\n",
       "      <td>NaN</td>\n",
       "      <td>11250759</td>\n",
       "    </tr>\n",
       "  </tbody>\n",
       "</table>\n",
       "</div>"
      ],
      "text/plain": [
       "  Date received                                            Product  \\\n",
       "0    2024-12-24  Credit reporting or other personal consumer re...   \n",
       "1    2024-12-24  Credit reporting or other personal consumer re...   \n",
       "\n",
       "        Sub-product                                              Issue  \\\n",
       "0  Credit reporting               Incorrect information on your report   \n",
       "1  Credit reporting  Problem with a company's investigation into an...   \n",
       "\n",
       "                                           Sub-issue  \\\n",
       "0                Information belongs to someone else   \n",
       "1  Their investigation did not fix an error on yo...   \n",
       "\n",
       "  Consumer complaint narrative Company public response  \\\n",
       "0                          NaN                     NaN   \n",
       "1                          NaN                     NaN   \n",
       "\n",
       "                               Company State ZIP code Tags  \\\n",
       "0  Experian Information Solutions Inc.    TX    78221  NaN   \n",
       "1  Experian Information Solutions Inc.    TN    38016  NaN   \n",
       "\n",
       "  Consumer consent provided? Submitted via Date sent to company  \\\n",
       "0                        NaN           Web           2024-12-24   \n",
       "1                        NaN           Web           2024-12-24   \n",
       "\n",
       "  Company response to consumer Timely response? Consumer disputed?  \\\n",
       "0                  In progress              Yes                NaN   \n",
       "1                  In progress              Yes                NaN   \n",
       "\n",
       "   Complaint ID  \n",
       "0      11250892  \n",
       "1      11250759  "
      ]
     },
     "execution_count": 2,
     "metadata": {},
     "output_type": "execute_result"
    }
   ],
   "source": [
    "# Dependencies and Setup\n",
    "import matplotlib.pyplot as plt\n",
    "import pandas as pd\n",
    "import scipy.stats as st\n",
    "import numpy as np\n",
    "\n",
    "# Turn off warning messages\n",
    "import warnings\n",
    "warnings.filterwarnings(\"ignore\")\n",
    "\n",
    "# Study data files\n",
    "complaints_metadata_path = \"complaints.csv/complaints.csv\"\n",
    "\n",
    "# Read data to study results\n",
    "complaints_metadata = pd.read_csv(complaints_metadata_path)\n",
    "\n",
    "# Display table\n",
    "complaints_metadata.head(2)"
   ]
  },
  {
   "cell_type": "code",
   "execution_count": 3,
   "metadata": {},
   "outputs": [
    {
     "data": {
      "text/plain": [
       "7214880"
      ]
     },
     "execution_count": 3,
     "metadata": {},
     "output_type": "execute_result"
    }
   ],
   "source": [
    "len(complaints_metadata)"
   ]
  },
  {
   "cell_type": "code",
   "execution_count": 4,
   "metadata": {},
   "outputs": [
    {
     "name": "stdout",
     "output_type": "stream",
     "text": [
      "<class 'pandas.core.frame.DataFrame'>\n",
      "RangeIndex: 7214880 entries, 0 to 7214879\n",
      "Data columns (total 18 columns):\n",
      " #   Column                        Dtype \n",
      "---  ------                        ----- \n",
      " 0   Date received                 object\n",
      " 1   Product                       object\n",
      " 2   Sub-product                   object\n",
      " 3   Issue                         object\n",
      " 4   Sub-issue                     object\n",
      " 5   Consumer complaint narrative  object\n",
      " 6   Company public response       object\n",
      " 7   Company                       object\n",
      " 8   State                         object\n",
      " 9   ZIP code                      object\n",
      " 10  Tags                          object\n",
      " 11  Consumer consent provided?    object\n",
      " 12  Submitted via                 object\n",
      " 13  Date sent to company          object\n",
      " 14  Company response to consumer  object\n",
      " 15  Timely response?              object\n",
      " 16  Consumer disputed?            object\n",
      " 17  Complaint ID                  int64 \n",
      "dtypes: int64(1), object(17)\n",
      "memory usage: 990.8+ MB\n"
     ]
    }
   ],
   "source": [
    "# Data types of columns\n",
    "complaints_metadata.info()"
   ]
  },
  {
   "cell_type": "code",
   "execution_count": 5,
   "metadata": {},
   "outputs": [],
   "source": [
    "# Drop Consumer Disputed, Tags, Consumer Complaint Narrative column\n",
    "complaints_database = complaints_metadata.drop(['Consumer disputed?','Tags','Consumer complaint narrative'], axis=1)"
   ]
  },
  {
   "cell_type": "code",
   "execution_count": 6,
   "metadata": {},
   "outputs": [
    {
     "data": {
      "text/html": [
       "<div>\n",
       "<style scoped>\n",
       "    .dataframe tbody tr th:only-of-type {\n",
       "        vertical-align: middle;\n",
       "    }\n",
       "\n",
       "    .dataframe tbody tr th {\n",
       "        vertical-align: top;\n",
       "    }\n",
       "\n",
       "    .dataframe thead th {\n",
       "        text-align: right;\n",
       "    }\n",
       "</style>\n",
       "<table border=\"1\" class=\"dataframe\">\n",
       "  <thead>\n",
       "    <tr style=\"text-align: right;\">\n",
       "      <th></th>\n",
       "      <th>date received</th>\n",
       "      <th>product</th>\n",
       "      <th>sub-product</th>\n",
       "      <th>issue</th>\n",
       "      <th>sub-issue</th>\n",
       "      <th>company public response</th>\n",
       "      <th>company</th>\n",
       "      <th>state</th>\n",
       "      <th>zip code</th>\n",
       "      <th>consumer consent provided?</th>\n",
       "      <th>submitted via</th>\n",
       "      <th>date sent to company</th>\n",
       "      <th>company response to consumer</th>\n",
       "      <th>timely response?</th>\n",
       "      <th>complaint id</th>\n",
       "    </tr>\n",
       "  </thead>\n",
       "  <tbody>\n",
       "    <tr>\n",
       "      <th>0</th>\n",
       "      <td>2024-12-24</td>\n",
       "      <td>Credit reporting or other personal consumer re...</td>\n",
       "      <td>Credit reporting</td>\n",
       "      <td>Incorrect information on your report</td>\n",
       "      <td>Information belongs to someone else</td>\n",
       "      <td>NaN</td>\n",
       "      <td>Experian Information Solutions Inc.</td>\n",
       "      <td>TX</td>\n",
       "      <td>78221</td>\n",
       "      <td>NaN</td>\n",
       "      <td>Web</td>\n",
       "      <td>2024-12-24</td>\n",
       "      <td>In progress</td>\n",
       "      <td>Yes</td>\n",
       "      <td>11250892</td>\n",
       "    </tr>\n",
       "    <tr>\n",
       "      <th>1</th>\n",
       "      <td>2024-12-24</td>\n",
       "      <td>Credit reporting or other personal consumer re...</td>\n",
       "      <td>Credit reporting</td>\n",
       "      <td>Problem with a company's investigation into an...</td>\n",
       "      <td>Their investigation did not fix an error on yo...</td>\n",
       "      <td>NaN</td>\n",
       "      <td>Experian Information Solutions Inc.</td>\n",
       "      <td>TN</td>\n",
       "      <td>38016</td>\n",
       "      <td>NaN</td>\n",
       "      <td>Web</td>\n",
       "      <td>2024-12-24</td>\n",
       "      <td>In progress</td>\n",
       "      <td>Yes</td>\n",
       "      <td>11250759</td>\n",
       "    </tr>\n",
       "    <tr>\n",
       "      <th>2</th>\n",
       "      <td>2024-12-24</td>\n",
       "      <td>Debt collection</td>\n",
       "      <td>I do not know</td>\n",
       "      <td>Took or threatened to take negative or legal a...</td>\n",
       "      <td>Threatened or suggested your credit would be d...</td>\n",
       "      <td>NaN</td>\n",
       "      <td>ENCORE CAPITAL GROUP INC.</td>\n",
       "      <td>GA</td>\n",
       "      <td>31061</td>\n",
       "      <td>NaN</td>\n",
       "      <td>Web</td>\n",
       "      <td>2024-12-24</td>\n",
       "      <td>In progress</td>\n",
       "      <td>Yes</td>\n",
       "      <td>11250794</td>\n",
       "    </tr>\n",
       "    <tr>\n",
       "      <th>3</th>\n",
       "      <td>2024-12-24</td>\n",
       "      <td>Credit reporting or other personal consumer re...</td>\n",
       "      <td>Credit reporting</td>\n",
       "      <td>Incorrect information on your report</td>\n",
       "      <td>Information belongs to someone else</td>\n",
       "      <td>NaN</td>\n",
       "      <td>TRANSUNION INTERMEDIATE HOLDINGS, INC.</td>\n",
       "      <td>MD</td>\n",
       "      <td>21212</td>\n",
       "      <td>NaN</td>\n",
       "      <td>Web</td>\n",
       "      <td>2024-12-24</td>\n",
       "      <td>In progress</td>\n",
       "      <td>Yes</td>\n",
       "      <td>11250735</td>\n",
       "    </tr>\n",
       "    <tr>\n",
       "      <th>4</th>\n",
       "      <td>2024-12-24</td>\n",
       "      <td>Credit reporting or other personal consumer re...</td>\n",
       "      <td>Credit reporting</td>\n",
       "      <td>Improper use of your report</td>\n",
       "      <td>Reporting company used your report improperly</td>\n",
       "      <td>NaN</td>\n",
       "      <td>TRANSUNION INTERMEDIATE HOLDINGS, INC.</td>\n",
       "      <td>TX</td>\n",
       "      <td>75495</td>\n",
       "      <td>NaN</td>\n",
       "      <td>Web</td>\n",
       "      <td>2024-12-24</td>\n",
       "      <td>In progress</td>\n",
       "      <td>Yes</td>\n",
       "      <td>11250736</td>\n",
       "    </tr>\n",
       "  </tbody>\n",
       "</table>\n",
       "</div>"
      ],
      "text/plain": [
       "  date received                                            product  \\\n",
       "0    2024-12-24  Credit reporting or other personal consumer re...   \n",
       "1    2024-12-24  Credit reporting or other personal consumer re...   \n",
       "2    2024-12-24                                    Debt collection   \n",
       "3    2024-12-24  Credit reporting or other personal consumer re...   \n",
       "4    2024-12-24  Credit reporting or other personal consumer re...   \n",
       "\n",
       "        sub-product                                              issue  \\\n",
       "0  Credit reporting               Incorrect information on your report   \n",
       "1  Credit reporting  Problem with a company's investigation into an...   \n",
       "2     I do not know  Took or threatened to take negative or legal a...   \n",
       "3  Credit reporting               Incorrect information on your report   \n",
       "4  Credit reporting                        Improper use of your report   \n",
       "\n",
       "                                           sub-issue company public response  \\\n",
       "0                Information belongs to someone else                     NaN   \n",
       "1  Their investigation did not fix an error on yo...                     NaN   \n",
       "2  Threatened or suggested your credit would be d...                     NaN   \n",
       "3                Information belongs to someone else                     NaN   \n",
       "4      Reporting company used your report improperly                     NaN   \n",
       "\n",
       "                                  company state zip code  \\\n",
       "0     Experian Information Solutions Inc.    TX    78221   \n",
       "1     Experian Information Solutions Inc.    TN    38016   \n",
       "2               ENCORE CAPITAL GROUP INC.    GA    31061   \n",
       "3  TRANSUNION INTERMEDIATE HOLDINGS, INC.    MD    21212   \n",
       "4  TRANSUNION INTERMEDIATE HOLDINGS, INC.    TX    75495   \n",
       "\n",
       "  consumer consent provided? submitted via date sent to company  \\\n",
       "0                        NaN           Web           2024-12-24   \n",
       "1                        NaN           Web           2024-12-24   \n",
       "2                        NaN           Web           2024-12-24   \n",
       "3                        NaN           Web           2024-12-24   \n",
       "4                        NaN           Web           2024-12-24   \n",
       "\n",
       "  company response to consumer timely response?  complaint id  \n",
       "0                  In progress              Yes      11250892  \n",
       "1                  In progress              Yes      11250759  \n",
       "2                  In progress              Yes      11250794  \n",
       "3                  In progress              Yes      11250735  \n",
       "4                  In progress              Yes      11250736  "
      ]
     },
     "execution_count": 6,
     "metadata": {},
     "output_type": "execute_result"
    }
   ],
   "source": [
    "# Clean header row to lower case\n",
    "complaints_db = complaints_database.rename(columns=str.lower)\n",
    "complaints_db.head()"
   ]
  },
  {
   "cell_type": "code",
   "execution_count": 7,
   "metadata": {},
   "outputs": [
    {
     "data": {
      "text/plain": [
       "date received                   7214880\n",
       "product                         7214880\n",
       "sub-product                     6979585\n",
       "issue                           7214874\n",
       "sub-issue                       6454834\n",
       "company public response         3590786\n",
       "company                         7214880\n",
       "state                           7164992\n",
       "zip code                        7184652\n",
       "consumer consent provided?      5946854\n",
       "submitted via                   7214880\n",
       "date sent to company            7214880\n",
       "company response to consumer    7214860\n",
       "timely response?                7214880\n",
       "complaint id                    7214880\n",
       "dtype: int64"
      ]
     },
     "execution_count": 7,
     "metadata": {},
     "output_type": "execute_result"
    }
   ],
   "source": [
    "complaints_db.count()"
   ]
  },
  {
   "cell_type": "code",
   "execution_count": 8,
   "metadata": {},
   "outputs": [],
   "source": [
    "# Remove rows with null values\n",
    "clean_database = complaints_db.dropna()  "
   ]
  },
  {
   "cell_type": "code",
   "execution_count": 9,
   "metadata": {},
   "outputs": [
    {
     "data": {
      "text/plain": [
       "3137716"
      ]
     },
     "execution_count": 9,
     "metadata": {},
     "output_type": "execute_result"
    }
   ],
   "source": [
    "# Number of rows in dataframe\n",
    "len(clean_database)"
   ]
  },
  {
   "cell_type": "code",
   "execution_count": 10,
   "metadata": {},
   "outputs": [],
   "source": [
    "# Convert Date Received and Date Sent To Company to datetime\n",
    "clean_database['date received'] = pd.to_datetime(clean_database['date received'])\n",
    "clean_database['date sent to company'] = pd.to_datetime(clean_database['date sent to company'])"
   ]
  },
  {
   "cell_type": "code",
   "execution_count": 11,
   "metadata": {},
   "outputs": [],
   "source": [
    "# Filtered to only complaints in 2024 calender year\n",
    "clean_database = clean_database[(clean_database['date received'] >= \"2024-01-01\") & (clean_database['date received'] <= \"2024-12-31\")]"
   ]
  },
  {
   "cell_type": "code",
   "execution_count": 12,
   "metadata": {},
   "outputs": [],
   "source": [
    "sample_data = clean_database.sample(n=5000, random_state=1)"
   ]
  },
  {
   "cell_type": "code",
   "execution_count": 13,
   "metadata": {},
   "outputs": [
    {
     "data": {
      "text/html": [
       "<div>\n",
       "<style scoped>\n",
       "    .dataframe tbody tr th:only-of-type {\n",
       "        vertical-align: middle;\n",
       "    }\n",
       "\n",
       "    .dataframe tbody tr th {\n",
       "        vertical-align: top;\n",
       "    }\n",
       "\n",
       "    .dataframe thead th {\n",
       "        text-align: right;\n",
       "    }\n",
       "</style>\n",
       "<table border=\"1\" class=\"dataframe\">\n",
       "  <thead>\n",
       "    <tr style=\"text-align: right;\">\n",
       "      <th></th>\n",
       "      <th>date received</th>\n",
       "      <th>product</th>\n",
       "      <th>sub-product</th>\n",
       "      <th>issue</th>\n",
       "      <th>sub-issue</th>\n",
       "      <th>company public response</th>\n",
       "      <th>company</th>\n",
       "      <th>state</th>\n",
       "      <th>zip code</th>\n",
       "      <th>consumer consent provided?</th>\n",
       "      <th>submitted via</th>\n",
       "      <th>date sent to company</th>\n",
       "      <th>company response to consumer</th>\n",
       "      <th>timely response?</th>\n",
       "      <th>complaint id</th>\n",
       "    </tr>\n",
       "  </thead>\n",
       "  <tbody>\n",
       "    <tr>\n",
       "      <th>1846565</th>\n",
       "      <td>2024-08-15</td>\n",
       "      <td>Credit reporting or other personal consumer re...</td>\n",
       "      <td>Credit reporting</td>\n",
       "      <td>Incorrect information on your report</td>\n",
       "      <td>Information belongs to someone else</td>\n",
       "      <td>Company has responded to the consumer and the ...</td>\n",
       "      <td>TRANSUNION INTERMEDIATE HOLDINGS, INC.</td>\n",
       "      <td>FL</td>\n",
       "      <td>34203</td>\n",
       "      <td>Consent not provided</td>\n",
       "      <td>Web</td>\n",
       "      <td>2024-08-15</td>\n",
       "      <td>Closed with non-monetary relief</td>\n",
       "      <td>Yes</td>\n",
       "      <td>9812181</td>\n",
       "    </tr>\n",
       "    <tr>\n",
       "      <th>3071081</th>\n",
       "      <td>2024-07-13</td>\n",
       "      <td>Credit reporting or other personal consumer re...</td>\n",
       "      <td>Credit reporting</td>\n",
       "      <td>Improper use of your report</td>\n",
       "      <td>Reporting company used your report improperly</td>\n",
       "      <td>Company has responded to the consumer and the ...</td>\n",
       "      <td>TRANSUNION INTERMEDIATE HOLDINGS, INC.</td>\n",
       "      <td>FL</td>\n",
       "      <td>32506</td>\n",
       "      <td>Consent not provided</td>\n",
       "      <td>Web</td>\n",
       "      <td>2024-07-13</td>\n",
       "      <td>Closed with explanation</td>\n",
       "      <td>Yes</td>\n",
       "      <td>9503664</td>\n",
       "    </tr>\n",
       "    <tr>\n",
       "      <th>6332019</th>\n",
       "      <td>2024-02-21</td>\n",
       "      <td>Credit reporting or other personal consumer re...</td>\n",
       "      <td>Credit reporting</td>\n",
       "      <td>Improper use of your report</td>\n",
       "      <td>Credit inquiries on your report that you don't...</td>\n",
       "      <td>Company has responded to the consumer and the ...</td>\n",
       "      <td>TRANSUNION INTERMEDIATE HOLDINGS, INC.</td>\n",
       "      <td>PA</td>\n",
       "      <td>18042</td>\n",
       "      <td>Consent not provided</td>\n",
       "      <td>Web</td>\n",
       "      <td>2024-02-21</td>\n",
       "      <td>Closed with non-monetary relief</td>\n",
       "      <td>Yes</td>\n",
       "      <td>8387816</td>\n",
       "    </tr>\n",
       "    <tr>\n",
       "      <th>4151806</th>\n",
       "      <td>2024-04-04</td>\n",
       "      <td>Credit reporting or other personal consumer re...</td>\n",
       "      <td>Credit reporting</td>\n",
       "      <td>Problem with a company's investigation into an...</td>\n",
       "      <td>Their investigation did not fix an error on yo...</td>\n",
       "      <td>Company has responded to the consumer and the ...</td>\n",
       "      <td>TRANSUNION INTERMEDIATE HOLDINGS, INC.</td>\n",
       "      <td>FL</td>\n",
       "      <td>34957</td>\n",
       "      <td>Consent not provided</td>\n",
       "      <td>Web</td>\n",
       "      <td>2024-04-04</td>\n",
       "      <td>Closed with non-monetary relief</td>\n",
       "      <td>Yes</td>\n",
       "      <td>8685526</td>\n",
       "    </tr>\n",
       "  </tbody>\n",
       "</table>\n",
       "</div>"
      ],
      "text/plain": [
       "        date received                                            product  \\\n",
       "1846565    2024-08-15  Credit reporting or other personal consumer re...   \n",
       "3071081    2024-07-13  Credit reporting or other personal consumer re...   \n",
       "6332019    2024-02-21  Credit reporting or other personal consumer re...   \n",
       "4151806    2024-04-04  Credit reporting or other personal consumer re...   \n",
       "\n",
       "              sub-product                                              issue  \\\n",
       "1846565  Credit reporting               Incorrect information on your report   \n",
       "3071081  Credit reporting                        Improper use of your report   \n",
       "6332019  Credit reporting                        Improper use of your report   \n",
       "4151806  Credit reporting  Problem with a company's investigation into an...   \n",
       "\n",
       "                                                 sub-issue  \\\n",
       "1846565                Information belongs to someone else   \n",
       "3071081      Reporting company used your report improperly   \n",
       "6332019  Credit inquiries on your report that you don't...   \n",
       "4151806  Their investigation did not fix an error on yo...   \n",
       "\n",
       "                                   company public response  \\\n",
       "1846565  Company has responded to the consumer and the ...   \n",
       "3071081  Company has responded to the consumer and the ...   \n",
       "6332019  Company has responded to the consumer and the ...   \n",
       "4151806  Company has responded to the consumer and the ...   \n",
       "\n",
       "                                        company state zip code  \\\n",
       "1846565  TRANSUNION INTERMEDIATE HOLDINGS, INC.    FL    34203   \n",
       "3071081  TRANSUNION INTERMEDIATE HOLDINGS, INC.    FL    32506   \n",
       "6332019  TRANSUNION INTERMEDIATE HOLDINGS, INC.    PA    18042   \n",
       "4151806  TRANSUNION INTERMEDIATE HOLDINGS, INC.    FL    34957   \n",
       "\n",
       "        consumer consent provided? submitted via date sent to company  \\\n",
       "1846565       Consent not provided           Web           2024-08-15   \n",
       "3071081       Consent not provided           Web           2024-07-13   \n",
       "6332019       Consent not provided           Web           2024-02-21   \n",
       "4151806       Consent not provided           Web           2024-04-04   \n",
       "\n",
       "            company response to consumer timely response?  complaint id  \n",
       "1846565  Closed with non-monetary relief              Yes       9812181  \n",
       "3071081          Closed with explanation              Yes       9503664  \n",
       "6332019  Closed with non-monetary relief              Yes       8387816  \n",
       "4151806  Closed with non-monetary relief              Yes       8685526  "
      ]
     },
     "execution_count": 13,
     "metadata": {},
     "output_type": "execute_result"
    }
   ],
   "source": [
    "sample_data.head(4)"
   ]
  },
  {
   "cell_type": "code",
   "execution_count": 14,
   "metadata": {},
   "outputs": [
    {
     "data": {
      "text/plain": [
       "5000"
      ]
     },
     "execution_count": 14,
     "metadata": {},
     "output_type": "execute_result"
    }
   ],
   "source": [
    "# Find number of complaints in 2024\n",
    "len(sample_data)"
   ]
  },
  {
   "cell_type": "code",
   "execution_count": 15,
   "metadata": {},
   "outputs": [],
   "source": [
    "sample_data['timely response?'] = sample_data['timely response?'].replace({'Yes': True, 'No': False})"
   ]
  },
  {
   "cell_type": "code",
   "execution_count": 16,
   "metadata": {},
   "outputs": [
    {
     "name": "stdout",
     "output_type": "stream",
     "text": [
      "<class 'pandas.core.frame.DataFrame'>\n",
      "Index: 5000 entries, 1846565 to 3143459\n",
      "Data columns (total 15 columns):\n",
      " #   Column                        Non-Null Count  Dtype         \n",
      "---  ------                        --------------  -----         \n",
      " 0   date received                 5000 non-null   datetime64[ns]\n",
      " 1   product                       5000 non-null   object        \n",
      " 2   sub-product                   5000 non-null   object        \n",
      " 3   issue                         5000 non-null   object        \n",
      " 4   sub-issue                     5000 non-null   object        \n",
      " 5   company public response       5000 non-null   object        \n",
      " 6   company                       5000 non-null   object        \n",
      " 7   state                         5000 non-null   object        \n",
      " 8   zip code                      5000 non-null   object        \n",
      " 9   consumer consent provided?    5000 non-null   object        \n",
      " 10  submitted via                 5000 non-null   object        \n",
      " 11  date sent to company          5000 non-null   datetime64[ns]\n",
      " 12  company response to consumer  5000 non-null   object        \n",
      " 13  timely response?              5000 non-null   bool          \n",
      " 14  complaint id                  5000 non-null   int64         \n",
      "dtypes: bool(1), datetime64[ns](2), int64(1), object(11)\n",
      "memory usage: 590.8+ KB\n"
     ]
    }
   ],
   "source": [
    "sample_data.info()"
   ]
  },
  {
   "cell_type": "code",
   "execution_count": 17,
   "metadata": {},
   "outputs": [],
   "source": [
    "# Convert Timely response? column to boolean\n",
    "sample_data['timely response?'] = sample_data['timely response?'].astype(bool)"
   ]
  },
  {
   "cell_type": "code",
   "execution_count": 18,
   "metadata": {},
   "outputs": [
    {
     "name": "stdout",
     "output_type": "stream",
     "text": [
      "<class 'pandas.core.frame.DataFrame'>\n",
      "Index: 5000 entries, 1846565 to 3143459\n",
      "Data columns (total 15 columns):\n",
      " #   Column                        Non-Null Count  Dtype         \n",
      "---  ------                        --------------  -----         \n",
      " 0   date received                 5000 non-null   datetime64[ns]\n",
      " 1   product                       5000 non-null   object        \n",
      " 2   sub-product                   5000 non-null   object        \n",
      " 3   issue                         5000 non-null   object        \n",
      " 4   sub-issue                     5000 non-null   object        \n",
      " 5   company public response       5000 non-null   object        \n",
      " 6   company                       5000 non-null   object        \n",
      " 7   state                         5000 non-null   object        \n",
      " 8   zip code                      5000 non-null   object        \n",
      " 9   consumer consent provided?    5000 non-null   object        \n",
      " 10  submitted via                 5000 non-null   object        \n",
      " 11  date sent to company          5000 non-null   datetime64[ns]\n",
      " 12  company response to consumer  5000 non-null   object        \n",
      " 13  timely response?              5000 non-null   bool          \n",
      " 14  complaint id                  5000 non-null   int64         \n",
      "dtypes: bool(1), datetime64[ns](2), int64(1), object(11)\n",
      "memory usage: 590.8+ KB\n"
     ]
    }
   ],
   "source": [
    "sample_data.info()"
   ]
  },
  {
   "cell_type": "code",
   "execution_count": 19,
   "metadata": {},
   "outputs": [
    {
     "data": {
      "text/plain": [
       "5000"
      ]
     },
     "execution_count": 19,
     "metadata": {},
     "output_type": "execute_result"
    }
   ],
   "source": [
    "# Count of Complaint ID column confirms each row is a unique compaint\n",
    "# when compared against the row count above.\n",
    "sample_data[\"complaint id\"].nunique()"
   ]
  },
  {
   "cell_type": "code",
   "execution_count": 20,
   "metadata": {},
   "outputs": [
    {
     "data": {
      "text/plain": [
       "15"
      ]
     },
     "execution_count": 20,
     "metadata": {},
     "output_type": "execute_result"
    }
   ],
   "source": [
    "# Number of columns in panda dataframe\n",
    "len(sample_data.columns)\n"
   ]
  },
  {
   "cell_type": "code",
   "execution_count": 21,
   "metadata": {},
   "outputs": [
    {
     "data": {
      "text/plain": [
       "85"
      ]
     },
     "execution_count": 21,
     "metadata": {},
     "output_type": "execute_result"
    }
   ],
   "source": [
    "# Number of companies represented in database.\n",
    "number_of_companies = sample_data[\"company\"].nunique()\n",
    "number_of_companies"
   ]
  },
  {
   "cell_type": "code",
   "execution_count": 22,
   "metadata": {},
   "outputs": [
    {
     "data": {
      "text/plain": [
       "state\n",
       "FL    701\n",
       "TX    637\n",
       "CA    496\n",
       "GA    360\n",
       "NY    329\n",
       "IL    244\n",
       "PA    222\n",
       "NJ    197\n",
       "NC    158\n",
       "MD    144\n",
       "Name: count, dtype: int64"
      ]
     },
     "execution_count": 22,
     "metadata": {},
     "output_type": "execute_result"
    }
   ],
   "source": [
    "# States with the most complaints\n",
    "states = sample_data[\"state\"].value_counts()\n",
    "states.head(10)"
   ]
  },
  {
   "cell_type": "code",
   "execution_count": 23,
   "metadata": {},
   "outputs": [
    {
     "data": {
      "text/plain": [
       "state\n",
       "AK                                      1\n",
       "ID                                      1\n",
       "VT                                      1\n",
       "UNITED STATES MINOR OUTLYING ISLANDS    1\n",
       "WY                                      2\n",
       "ME                                      3\n",
       "VI                                      3\n",
       "NH                                      6\n",
       "ND                                      6\n",
       "WV                                      8\n",
       "Name: count, dtype: int64"
      ]
     },
     "execution_count": 23,
     "metadata": {},
     "output_type": "execute_result"
    }
   ],
   "source": [
    "# State column has 63 unique entries, including... \n",
    "# Armed Forces (AA), (AE), (AP), \n",
    "# American Samoa (AS), Guam (GU), Northern Mariana Islands (MP)\n",
    "# Virgin Islands (VI), Minor Islands, Marshall Islands (MH)\n",
    "# Micronesia (FM), Palau (PW), \n",
    "statess = sample_data[\"state\"].value_counts()\n",
    "sorted_states = statess.sort_values(ascending=True)\n",
    "sorted_states.head(10)"
   ]
  },
  {
   "cell_type": "code",
   "execution_count": 24,
   "metadata": {},
   "outputs": [
    {
     "data": {
      "text/plain": [
       "company\n",
       "TRANSUNION INTERMEDIATE HOLDINGS, INC.                 2478\n",
       "Experian Information Solutions Inc.                    2106\n",
       "WELLS FARGO & COMPANY                                    54\n",
       "CITIBANK, N.A.                                           51\n",
       "SYNCHRONY FINANCIAL                                      34\n",
       "BANK OF AMERICA, NATIONAL ASSOCIATION                    33\n",
       "NAVY FEDERAL CREDIT UNION                                16\n",
       "MOHELA                                                   14\n",
       "BARCLAYS BANK DELAWARE                                   13\n",
       "U.S. BANCORP                                             13\n",
       "Shellpoint Partners, LLC                                 10\n",
       "Fidelity National Information Services, Inc. (FNIS)      10\n",
       "ALLY FINANCIAL INC.                                      10\n",
       "CCS Financial Services, Inc.                             10\n",
       "TRUIST FINANCIAL CORPORATION                              9\n",
       "I.C. System, Inc.                                         9\n",
       "CREDIT ACCEPTANCE CORPORATION                             8\n",
       "UNITED SERVICES AUTOMOBILE ASSOCIATION                    8\n",
       "Westlake Services, LLC                                    6\n",
       "FC HoldCo LLC                                             5\n",
       "Name: count, dtype: int64"
      ]
     },
     "execution_count": 24,
     "metadata": {},
     "output_type": "execute_result"
    }
   ],
   "source": [
    "# Companies with the most complaints filed\n",
    "company_complaints_total = sample_data[\"company\"].value_counts()\n",
    "company_complaints_total.head(20)"
   ]
  },
  {
   "cell_type": "code",
   "execution_count": 25,
   "metadata": {},
   "outputs": [
    {
     "data": {
      "text/plain": [
       "company\n",
       "PINNACLE RECOVERY, INC.              1\n",
       "The CMI Group, Inc.                  1\n",
       "FIRST NATIONAL BANK OF OMAHA         1\n",
       "LoanCare, LLC                        1\n",
       "BROKER SOLUTIONS, INC.               1\n",
       "ProCollect, Inc.                     1\n",
       "Loqbox US Inc                        1\n",
       "Financial Recovery Services, Inc.    1\n",
       "Armstrong and Associates, Inc        1\n",
       "Meridian Title  Corporation          1\n",
       "Name: count, dtype: int64"
      ]
     },
     "execution_count": 25,
     "metadata": {},
     "output_type": "execute_result"
    }
   ],
   "source": [
    "# Over 3000 of the 4609 companies have fewer than 10 complaints filed in the database\n",
    "fewest_complaints = company_complaints_total.sort_values(ascending=True)\n",
    "fewest_complaints.head(10)"
   ]
  },
  {
   "cell_type": "code",
   "execution_count": 26,
   "metadata": {},
   "outputs": [
    {
     "data": {
      "text/plain": [
       "submitted via\n",
       "Web    5000\n",
       "Name: count, dtype: int64"
      ]
     },
     "execution_count": 26,
     "metadata": {},
     "output_type": "execute_result"
    }
   ],
   "source": [
    "# Different methods of complaint submissions\n",
    "submissions = sample_data[\"submitted via\"].value_counts()\n",
    "submissions"
   ]
  },
  {
   "cell_type": "code",
   "execution_count": 27,
   "metadata": {},
   "outputs": [],
   "source": [
    "# merge_db = clean_database\n",
    "# merge_db.rename(index={'Payday loan': 'Payday loan, title loan, personal loan, or advance loan'}, inplace=True)\n",
    "# merge_db.head(2)"
   ]
  },
  {
   "cell_type": "code",
   "execution_count": 28,
   "metadata": {},
   "outputs": [],
   "source": [
    "# Combine similar values in the product column\n",
    "merge_db = sample_data\n",
    "merge_db[\"product\"]=merge_db[\"product\"].replace({\n",
    "    \"Payday loan\" : \"Payday loan, title loan, personal loan, or advance loan\",\n",
    "    \"Payday loan, title loan, or personal loan\" : \"Payday loan, title loan, personal loan, or advance loan\",\n",
    "    \"Credit card\" : \"Credit card or prepaid card\",\n",
    "    \"Prepaid card\" : \"Credit card or prepaid card\",\n",
    "    \"Credit reporting or other personal consumer reports\" : \"Credit reporting, credit repair services, or other personal consumer reports\",\n",
    "    \"Credit reporting\" : \"Credit reporting, credit repair services, or other personal consumer reports\",\n",
    "    \"Money transfers\" : \"Money transfer, virtual currency, or money service\",\n",
    "    \"Virtual currency\" : \"Money transfer, virtual currency, or money service\"\n",
    "    }) "
   ]
  },
  {
   "cell_type": "code",
   "execution_count": 29,
   "metadata": {},
   "outputs": [],
   "source": [
    "# Replace NaN value with Not Applicable in company public response column\n",
    "merge_db[\"company public response\"] = merge_db[\"company public response\"].fillna('Not Applicable')"
   ]
  },
  {
   "cell_type": "code",
   "execution_count": 30,
   "metadata": {},
   "outputs": [
    {
     "data": {
      "text/plain": [
       "5000"
      ]
     },
     "execution_count": 30,
     "metadata": {},
     "output_type": "execute_result"
    }
   ],
   "source": [
    "# Reconfirm length of database is same as above.\n",
    "len(merge_db)"
   ]
  },
  {
   "cell_type": "code",
   "execution_count": 31,
   "metadata": {},
   "outputs": [
    {
     "data": {
      "text/html": [
       "<div>\n",
       "<style scoped>\n",
       "    .dataframe tbody tr th:only-of-type {\n",
       "        vertical-align: middle;\n",
       "    }\n",
       "\n",
       "    .dataframe tbody tr th {\n",
       "        vertical-align: top;\n",
       "    }\n",
       "\n",
       "    .dataframe thead th {\n",
       "        text-align: right;\n",
       "    }\n",
       "</style>\n",
       "<table border=\"1\" class=\"dataframe\">\n",
       "  <thead>\n",
       "    <tr style=\"text-align: right;\">\n",
       "      <th></th>\n",
       "      <th>date received</th>\n",
       "      <th>product</th>\n",
       "      <th>sub-product</th>\n",
       "      <th>issue</th>\n",
       "      <th>sub-issue</th>\n",
       "      <th>company public response</th>\n",
       "      <th>company</th>\n",
       "      <th>state</th>\n",
       "      <th>zip code</th>\n",
       "      <th>consumer consent provided?</th>\n",
       "      <th>submitted via</th>\n",
       "      <th>date sent to company</th>\n",
       "      <th>company response to consumer</th>\n",
       "      <th>timely response?</th>\n",
       "      <th>complaint id</th>\n",
       "    </tr>\n",
       "  </thead>\n",
       "  <tbody>\n",
       "    <tr>\n",
       "      <th>1846565</th>\n",
       "      <td>2024-08-15</td>\n",
       "      <td>Credit reporting, credit repair services, or o...</td>\n",
       "      <td>Credit reporting</td>\n",
       "      <td>Incorrect information on your report</td>\n",
       "      <td>Information belongs to someone else</td>\n",
       "      <td>Company has responded to the consumer and the ...</td>\n",
       "      <td>TRANSUNION INTERMEDIATE HOLDINGS, INC.</td>\n",
       "      <td>FL</td>\n",
       "      <td>34203</td>\n",
       "      <td>Consent not provided</td>\n",
       "      <td>Web</td>\n",
       "      <td>2024-08-15</td>\n",
       "      <td>Closed with non-monetary relief</td>\n",
       "      <td>True</td>\n",
       "      <td>9812181</td>\n",
       "    </tr>\n",
       "    <tr>\n",
       "      <th>3071081</th>\n",
       "      <td>2024-07-13</td>\n",
       "      <td>Credit reporting, credit repair services, or o...</td>\n",
       "      <td>Credit reporting</td>\n",
       "      <td>Improper use of your report</td>\n",
       "      <td>Reporting company used your report improperly</td>\n",
       "      <td>Company has responded to the consumer and the ...</td>\n",
       "      <td>TRANSUNION INTERMEDIATE HOLDINGS, INC.</td>\n",
       "      <td>FL</td>\n",
       "      <td>32506</td>\n",
       "      <td>Consent not provided</td>\n",
       "      <td>Web</td>\n",
       "      <td>2024-07-13</td>\n",
       "      <td>Closed with explanation</td>\n",
       "      <td>True</td>\n",
       "      <td>9503664</td>\n",
       "    </tr>\n",
       "  </tbody>\n",
       "</table>\n",
       "</div>"
      ],
      "text/plain": [
       "        date received                                            product  \\\n",
       "1846565    2024-08-15  Credit reporting, credit repair services, or o...   \n",
       "3071081    2024-07-13  Credit reporting, credit repair services, or o...   \n",
       "\n",
       "              sub-product                                 issue  \\\n",
       "1846565  Credit reporting  Incorrect information on your report   \n",
       "3071081  Credit reporting           Improper use of your report   \n",
       "\n",
       "                                             sub-issue  \\\n",
       "1846565            Information belongs to someone else   \n",
       "3071081  Reporting company used your report improperly   \n",
       "\n",
       "                                   company public response  \\\n",
       "1846565  Company has responded to the consumer and the ...   \n",
       "3071081  Company has responded to the consumer and the ...   \n",
       "\n",
       "                                        company state zip code  \\\n",
       "1846565  TRANSUNION INTERMEDIATE HOLDINGS, INC.    FL    34203   \n",
       "3071081  TRANSUNION INTERMEDIATE HOLDINGS, INC.    FL    32506   \n",
       "\n",
       "        consumer consent provided? submitted via date sent to company  \\\n",
       "1846565       Consent not provided           Web           2024-08-15   \n",
       "3071081       Consent not provided           Web           2024-07-13   \n",
       "\n",
       "            company response to consumer  timely response?  complaint id  \n",
       "1846565  Closed with non-monetary relief              True       9812181  \n",
       "3071081          Closed with explanation              True       9503664  "
      ]
     },
     "execution_count": 31,
     "metadata": {},
     "output_type": "execute_result"
    }
   ],
   "source": [
    "# Preview of new merge_db\n",
    "merge_db.head(2)"
   ]
  },
  {
   "cell_type": "code",
   "execution_count": 32,
   "metadata": {},
   "outputs": [
    {
     "data": {
      "text/plain": [
       "company public response\n",
       "Company has responded to the consumer and the CFPB and chooses not to provide a public response                            4907\n",
       "Company believes it acted appropriately as authorized by contract or law                                                     80\n",
       "Company disputes the facts presented in the complaint                                                                         7\n",
       "Company can't verify or dispute the facts in the complaint                                                                    3\n",
       "Company believes the complaint provided an opportunity to answer consumer's questions                                         1\n",
       "Company believes complaint caused principally by actions of third party outside the control or direction of the company       1\n",
       "Company believes complaint is the result of an isolated error                                                                 1\n",
       "Name: count, dtype: int64"
      ]
     },
     "execution_count": 32,
     "metadata": {},
     "output_type": "execute_result"
    }
   ],
   "source": [
    "merge_db[\"company public response\"].value_counts().head(20)"
   ]
  },
  {
   "cell_type": "code",
   "execution_count": 33,
   "metadata": {},
   "outputs": [
    {
     "data": {
      "text/plain": [
       "company response to consumer\n",
       "Closed with non-monetary relief    2659\n",
       "Closed with explanation            2307\n",
       "Closed with monetary relief          34\n",
       "Name: count, dtype: int64"
      ]
     },
     "execution_count": 33,
     "metadata": {},
     "output_type": "execute_result"
    }
   ],
   "source": [
    "# Different complain outcomes\n",
    "outcomes = merge_db[\"company response to consumer\"].value_counts()\n",
    "outcomes"
   ]
  },
  {
   "cell_type": "code",
   "execution_count": 34,
   "metadata": {},
   "outputs": [
    {
     "data": {
      "text/plain": [
       "timely response?\n",
       "True     4993\n",
       "False       7\n",
       "Name: count, dtype: int64"
      ]
     },
     "execution_count": 34,
     "metadata": {},
     "output_type": "execute_result"
    }
   ],
   "source": [
    "# Timely response column\n",
    "timely = merge_db[\"timely response?\"].value_counts()\n",
    "timely"
   ]
  },
  {
   "cell_type": "code",
   "execution_count": 35,
   "metadata": {},
   "outputs": [
    {
     "data": {
      "text/plain": [
       "consumer consent provided?\n",
       "Consent not provided    3304\n",
       "Consent provided        1479\n",
       "Other                    212\n",
       "Consent withdrawn          5\n",
       "Name: count, dtype: int64"
      ]
     },
     "execution_count": 35,
     "metadata": {},
     "output_type": "execute_result"
    }
   ],
   "source": [
    "# Customed consent column. Possible ethical issue.\n",
    "ethical = merge_db[\"consumer consent provided?\"].value_counts()\n",
    "ethical"
   ]
  },
  {
   "cell_type": "code",
   "execution_count": 36,
   "metadata": {},
   "outputs": [
    {
     "data": {
      "text/plain": [
       "company response to consumer\n",
       "Closed with non-monetary relief    2659\n",
       "Closed with explanation            2307\n",
       "Closed with monetary relief          34\n",
       "Name: count, dtype: int64"
      ]
     },
     "execution_count": 36,
     "metadata": {},
     "output_type": "execute_result"
    }
   ],
   "source": [
    "ethicals = merge_db[\"company response to consumer\"].value_counts()\n",
    "ethicals"
   ]
  },
  {
   "cell_type": "code",
   "execution_count": 37,
   "metadata": {},
   "outputs": [
    {
     "data": {
      "text/plain": [
       "product\n",
       "Credit reporting, credit repair services, or other personal consumer reports    4585\n",
       "Debt collection                                                                  166\n",
       "Credit card or prepaid card                                                      115\n",
       "Checking or savings account                                                       76\n",
       "Mortgage                                                                          32\n",
       "Student loan                                                                      13\n",
       "Vehicle loan or lease                                                             13\n",
       "Name: count, dtype: int64"
      ]
     },
     "execution_count": 37,
     "metadata": {},
     "output_type": "execute_result"
    }
   ],
   "source": [
    "merge_db[\"product\"].value_counts()"
   ]
  },
  {
   "cell_type": "code",
   "execution_count": 38,
   "metadata": {},
   "outputs": [
    {
     "data": {
      "text/plain": [
       "issue\n",
       "Incorrect information on your report                               2226\n",
       "Improper use of your report                                        1430\n",
       "Problem with a company's investigation into an existing problem     932\n",
       "Written notification about debt                                      74\n",
       "Attempts to collect debt not owed                                    67\n",
       "Managing an account                                                  39\n",
       "Credit monitoring or identity theft protection services              27\n",
       "Problem with a purchase shown on your statement                      25\n",
       "Getting a credit card                                                16\n",
       "Trouble during payment process                                       14\n",
       "Other features, terms, or problems                                   12\n",
       "Closing an account                                                   12\n",
       "Opening an account                                                   12\n",
       "Problem with a lender or other company charging your account         11\n",
       "Fees or interest                                                     10\n",
       "Communication tactics                                                10\n",
       "Dealing with your lender or servicer                                 10\n",
       "Struggling to pay mortgage                                            9\n",
       "Closing your account                                                  9\n",
       "Unable to get your credit report or credit score                      8\n",
       "False statements or representation                                    7\n",
       "Took or threatened to take negative or legal action                   7\n",
       "Advertising and marketing, including promotional offers               4\n",
       "Repossession                                                          4\n",
       "Managing the loan or lease                                            4\n",
       "Applying for a mortgage or refinancing an existing mortgage           4\n",
       "Problem caused by your funds being low                                2\n",
       "Trouble using your card                                               2\n",
       "Problem with a company's investigation into an existing issue         2\n",
       "Getting a loan or lease                                               2\n",
       "Problem when making payments                                          2\n",
       "Getting a loan                                                        2\n",
       "Closing on a mortgage                                                 1\n",
       "Electronic communications                                             1\n",
       "Advertising                                                           1\n",
       "Problems at the end of the loan or lease                              1\n",
       "Problem getting a card or closing an account                          1\n",
       "Name: count, dtype: int64"
      ]
     },
     "execution_count": 38,
     "metadata": {},
     "output_type": "execute_result"
    }
   ],
   "source": [
    "merge_db[\"issue\"].value_counts()"
   ]
  },
  {
   "cell_type": "code",
   "execution_count": 39,
   "metadata": {},
   "outputs": [],
   "source": [
    "# Load the zip code to coordinates dataset\n",
    "us_states = pd.read_csv('Resources/state_names.csv')   # Ensure it has columns 'zip_code', 'latitude', 'longitude'\n",
    "\n",
    "# Merge the datasets on zip code\n",
    "merged_data = merge_db.merge(us_states, how='left', left_on='state', right_on='Alpha code')"
   ]
  },
  {
   "cell_type": "code",
   "execution_count": 40,
   "metadata": {},
   "outputs": [],
   "source": [
    "merged_data = merged_data.drop(['Code', 'Abbreviation', 'Alpha code'], axis=1)"
   ]
  },
  {
   "cell_type": "code",
   "execution_count": 41,
   "metadata": {},
   "outputs": [],
   "source": [
    "merged_data.rename(columns={'State': \"state_name\"}, inplace=True)"
   ]
  },
  {
   "cell_type": "code",
   "execution_count": 42,
   "metadata": {},
   "outputs": [],
   "source": [
    "merged_data.to_csv(\"Resources/sample_complaints\", index=False, header=True)"
   ]
  },
  {
   "cell_type": "code",
   "execution_count": 43,
   "metadata": {},
   "outputs": [],
   "source": [
    "merged_data.to_json('Resources/sample_complaints.json', orient='records', lines=False)"
   ]
  },
  {
   "cell_type": "markdown",
   "metadata": {},
   "source": [
    "# How are Complaints Dispersed Across the Calendar Year 2024?"
   ]
  },
  {
   "cell_type": "code",
   "execution_count": 44,
   "metadata": {},
   "outputs": [],
   "source": [
    "#Extract month as three-letter abbreviation\n",
    "merge_db['month']=merge_db['date received'].dt.strftime('%b')"
   ]
  },
  {
   "cell_type": "code",
   "execution_count": 45,
   "metadata": {},
   "outputs": [],
   "source": [
    "#Grouping the months \n",
    "monthly_complaints = merge_db.groupby(merge_db['month'])"
   ]
  },
  {
   "cell_type": "code",
   "execution_count": 46,
   "metadata": {},
   "outputs": [
    {
     "data": {
      "text/plain": [
       "month\n",
       "Apr    423\n",
       "Aug    560\n",
       "Dec     18\n",
       "Feb    341\n",
       "Jan    287\n",
       "Jul    546\n",
       "Jun    466\n",
       "Mar    389\n",
       "May    434\n",
       "Nov    279\n",
       "Oct    685\n",
       "Sep    572\n",
       "dtype: int64"
      ]
     },
     "execution_count": 46,
     "metadata": {},
     "output_type": "execute_result"
    }
   ],
   "source": [
    "#Getting the numbers of complaints per month\n",
    "number_of_complaints = monthly_complaints.size()\n",
    "number_of_complaints"
   ]
  },
  {
   "cell_type": "code",
   "execution_count": 47,
   "metadata": {},
   "outputs": [],
   "source": [
    "#Calculating the average of the entire year\n",
    "avg_number_of_complaints = number_of_complaints.mean()"
   ]
  },
  {
   "cell_type": "code",
   "execution_count": 48,
   "metadata": {},
   "outputs": [],
   "source": [
    "#Calculating the standard deviation of the entire year\n",
    "std_dev_complaints = number_of_complaints.std()"
   ]
  },
  {
   "cell_type": "code",
   "execution_count": null,
   "metadata": {},
   "outputs": [
    {
     "data": {
      "image/png": "[encoded data removed]",
      "text/plain": [
       "<Figure size 1000x600 with 1 Axes>"
      ]
     },
     "metadata": {},
     "output_type": "display_data"
    }
   ],
   "source": [
    "# Setting the figure size\n",
    "plt.figure(figsize=(10, 6))\n",
    "\n",
    "# Set the Month column as the index\n",
    "number_of_complaints = number_of_complaints.reindex(['Jan', 'Feb', 'Mar', 'Apr', 'May', 'Jun', \n",
    "                                                      'Jul', 'Aug', 'Sep', 'Oct', 'Nov', 'Dec'])\n",
    "\n",
    "# Calculate Upper Control Limit\n",
    "UCL = avg_number_of_complaints + (3 * std_dev_complaints)\n",
    "\n",
    "# Plotting the line graph\n",
    "number_of_complaints.plot(kind='line', color='darkblue', marker='o',title='Number of Complaints Per Month')\n",
    "\n",
    "# Set x-ticks to display every month\n",
    "plt.xticks(ticks=range(len(number_of_complaints.index)), labels=number_of_complaints.index, rotation=90)\n",
    "\n",
    "# Add a horizontal line for the average\n",
    "plt.axhline(y=avg_number_of_complaints, color='green', linestyle='--', label='Average Complaints')\n",
    "\n",
    "# Add a horizontal line for the UCL\n",
    "plt.axhline(y=UCL, color='firebrick', linestyle='--', label='UCL (Average + 3 SD)')\n",
    "\n",
    "# Set labels and position the legend\n",
    "plt.xlabel('Months')\n",
    "plt.ylabel('Number Of Complaints')\n",
    "plt.legend(loc='upper right')\n",
    "plt.xticks(rotation=90)\n",
    "\n",
    "# Add a grid \n",
    "plt.grid(True)\n",
    "\n",
    "#Saving the chart\n",
    "plt.savefig(\"Resources/Number Of Complaints Per Month\")\n",
    "\n",
    "#Apply tight layout\n",
    "plt.tight_layout()\n",
    "\n",
    "# Show the plot\n",
    "plt.show()\n",
    "\n"
   ]
  }
 ],
 "metadata": {
  "kernelspec": {
   "display_name": "dev",
   "language": "python",
   "name": "python3"
  },
  "language_info": {
   "codemirror_mode": {
    "name": "ipython",
    "version": 3
   },
   "file_extension": ".py",
   "mimetype": "text/x-python",
   "name": "python",
   "nbconvert_exporter": "python",
   "pygments_lexer": "ipython3",
   "version": "3.10.14"
  }
 },
 "nbformat": 4,
 "nbformat_minor": 2
}
